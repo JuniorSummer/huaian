{
 "cells": [
  {
   "cell_type": "code",
   "execution_count": 1,
   "metadata": {
    "tags": []
   },
   "outputs": [],
   "source": [
    "#pip install tensorflow==2.6.0\n",
    "#pip install keras==2.6.0\n",
    "#python==3.7"
   ]
  },
  {
   "cell_type": "code",
   "execution_count": 2,
   "metadata": {
    "tags": []
   },
   "outputs": [],
   "source": [
    "#import tensorflow as tf\n",
    "#tf.keras.xxx"
   ]
  },
  {
   "cell_type": "code",
   "execution_count": 3,
   "metadata": {
    "tags": []
   },
   "outputs": [],
   "source": [
    "import matplotlib.pyplot as plt  \n",
    "import numpy as np  \n",
    "import pandas as pd \n",
    "import re\n",
    "import jieba\n",
    "import jieba.analyse as analyse \n",
    "from keras.preprocessing import sequence\n",
    "from keras.preprocessing.text import Tokenizer  \n",
    "from keras.models import Sequential  \n",
    "from keras.layers import Dense,Flatten \n",
    "from keras.layers import Embedding"
   ]
  },
  {
   "cell_type": "code",
   "execution_count": 4,
   "metadata": {
    "scrolled": true,
    "tags": []
   },
   "outputs": [
    {
     "data": {
      "text/html": [
       "<div>\n",
       "<style scoped>\n",
       "    .dataframe tbody tr th:only-of-type {\n",
       "        vertical-align: middle;\n",
       "    }\n",
       "\n",
       "    .dataframe tbody tr th {\n",
       "        vertical-align: top;\n",
       "    }\n",
       "\n",
       "    .dataframe thead th {\n",
       "        text-align: right;\n",
       "    }\n",
       "</style>\n",
       "<table border=\"1\" class=\"dataframe\">\n",
       "  <thead>\n",
       "    <tr style=\"text-align: right;\">\n",
       "      <th></th>\n",
       "      <th>content</th>\n",
       "      <th>class</th>\n",
       "      <th>label</th>\n",
       "    </tr>\n",
       "  </thead>\n",
       "  <tbody>\n",
       "    <tr>\n",
       "      <th>878</th>\n",
       "      <td>：其在A区B大厦C座D公寓342在“闲鱼”上看到买手机的广告用微信加了对方微信谈好价格后通过...</td>\n",
       "      <td>购物消费</td>\n",
       "      <td>3.0</td>\n",
       "    </tr>\n",
       "    <tr>\n",
       "      <th>879</th>\n",
       "      <td>：其在A区B路6D大厦C座E公寓8332室收到一条要买其挂在转转上出售的英雄联盟游戏账号的消...</td>\n",
       "      <td>购物消费</td>\n",
       "      <td>3.0</td>\n",
       "    </tr>\n",
       "    <tr>\n",
       "      <th>880</th>\n",
       "      <td>NaN</td>\n",
       "      <td>购物消费</td>\n",
       "      <td>NaN</td>\n",
       "    </tr>\n",
       "    <tr>\n",
       "      <th>881</th>\n",
       "      <td>NaN</td>\n",
       "      <td>购物消费</td>\n",
       "      <td>NaN</td>\n",
       "    </tr>\n",
       "    <tr>\n",
       "      <th>882</th>\n",
       "      <td>：其在A区B大厦C座D公寓342在“闲鱼”上看到买手机的广告用微信加了对方微信谈好价格后通过...</td>\n",
       "      <td>NaN</td>\n",
       "      <td>4.0</td>\n",
       "    </tr>\n",
       "  </tbody>\n",
       "</table>\n",
       "</div>"
      ],
      "text/plain": [
       "                                               content class  label\n",
       "878  ：其在A区B大厦C座D公寓342在“闲鱼”上看到买手机的广告用微信加了对方微信谈好价格后通过...  购物消费    3.0\n",
       "879  ：其在A区B路6D大厦C座E公寓8332室收到一条要买其挂在转转上出售的英雄联盟游戏账号的消...  购物消费    3.0\n",
       "880                                                NaN  购物消费    NaN\n",
       "881                                                NaN  购物消费    NaN\n",
       "882  ：其在A区B大厦C座D公寓342在“闲鱼”上看到买手机的广告用微信加了对方微信谈好价格后通过...   NaN    4.0"
      ]
     },
     "execution_count": 4,
     "metadata": {},
     "output_type": "execute_result"
    }
   ],
   "source": [
    "data = pd.read_table('data.txt',encoding='UTF-8') #读取txt文件\n",
    "data.tail() #查看数据"
   ]
  },
  {
   "cell_type": "code",
   "execution_count": 5,
   "metadata": {
    "tags": []
   },
   "outputs": [
    {
     "data": {
      "text/plain": [
       "content    2\n",
       "class      1\n",
       "label      2\n",
       "dtype: int64"
      ]
     },
     "execution_count": 5,
     "metadata": {},
     "output_type": "execute_result"
    }
   ],
   "source": [
    "data.isnull().sum()"
   ]
  },
  {
   "cell_type": "code",
   "execution_count": 6,
   "metadata": {
    "tags": []
   },
   "outputs": [
    {
     "data": {
      "text/plain": [
       "content    0\n",
       "class      0\n",
       "label      0\n",
       "dtype: int64"
      ]
     },
     "execution_count": 6,
     "metadata": {},
     "output_type": "execute_result"
    }
   ],
   "source": [
    "data = data.dropna() #删除缺失值\n",
    "data.isnull().sum() #检查是否删干净"
   ]
  },
  {
   "cell_type": "code",
   "execution_count": 7,
   "metadata": {
    "tags": []
   },
   "outputs": [],
   "source": [
    "#定义删除字母,数字，汉字以外的所有符号的函数\n",
    "def remove_punctuation(line):\n",
    "    line = str(line) #转化为字符型\n",
    "    if line.strip()=='':\n",
    "        return ''\n",
    "    rule = re.compile(u\"[^a-zA-Z0-9\\u4E00-\\u9FA5]\") #匹配其他字符\n",
    "    line = rule.sub('',line) #将匹配到的字符替换为空\n",
    "    return line\n",
    "\n",
    "#停用词列表\n",
    "def stopwordslist(filepath):  \n",
    "    stopwords = [line.strip() for line in open(filepath,'r',  encoding='utf-8').readlines()]  #逐行提取停用词\n",
    "    return stopwords  \n",
    "\n",
    "#加载停用词\n",
    "stopwords = stopwordslist('stopwords.txt')"
   ]
  },
  {
   "cell_type": "code",
   "execution_count": 8,
   "metadata": {
    "tags": []
   },
   "outputs": [],
   "source": [
    "data['content_clean'] = data['content'].apply(remove_punctuation) #对content列调用定义的remove_punctuation函数"
   ]
  },
  {
   "cell_type": "code",
   "execution_count": 9,
   "metadata": {
    "tags": []
   },
   "outputs": [
    {
     "name": "stderr",
     "output_type": "stream",
     "text": [
      "Building prefix dict from the default dictionary ...\n",
      "Loading model from cache C:\\Users\\xiayu\\AppData\\Local\\Temp\\jieba.cache\n",
      "Loading model cost 0.494 seconds.\n",
      "Prefix dict has been built successfully.\n"
     ]
    },
    {
     "data": {
      "text/html": [
       "<div>\n",
       "<style scoped>\n",
       "    .dataframe tbody tr th:only-of-type {\n",
       "        vertical-align: middle;\n",
       "    }\n",
       "\n",
       "    .dataframe tbody tr th {\n",
       "        vertical-align: top;\n",
       "    }\n",
       "\n",
       "    .dataframe thead th {\n",
       "        text-align: right;\n",
       "    }\n",
       "</style>\n",
       "<table border=\"1\" class=\"dataframe\">\n",
       "  <thead>\n",
       "    <tr style=\"text-align: right;\">\n",
       "      <th></th>\n",
       "      <th>content</th>\n",
       "      <th>class</th>\n",
       "      <th>label</th>\n",
       "      <th>content_clean</th>\n",
       "      <th>cut_content</th>\n",
       "    </tr>\n",
       "  </thead>\n",
       "  <tbody>\n",
       "    <tr>\n",
       "      <th>0</th>\n",
       "      <td>：其在某地区客房门口其的MChat的APP软件收到一个自称是可以提供色情服务的客服信息MCh...</td>\n",
       "      <td>婚恋交友</td>\n",
       "      <td>4.0</td>\n",
       "      <td>其在某地区客房门口其的MChat的APP软件收到一个自称是可以提供色情服务的客服信息MCha...</td>\n",
       "      <td>地区 客房 门口 MChat APP 软件 收到 自称 提供 色情 服务 客服 信息 MCh...</td>\n",
       "    </tr>\n",
       "    <tr>\n",
       "      <th>1</th>\n",
       "      <td>某地区派出所接报案称：其位于某某路小区其系淘宝卖家其发现其淘宝店铺内有一笔订单申请退款但未有...</td>\n",
       "      <td>购物消费</td>\n",
       "      <td>3.0</td>\n",
       "      <td>某地区派出所接报案称其位于某某路小区其系淘宝卖家其发现其淘宝店铺内有一笔订单申请退款但未有实...</td>\n",
       "      <td>地区 派出所 接 报案 称其 位于 路 小区 其系 淘宝 卖家 发现 淘宝 店铺 内有 一笔...</td>\n",
       "    </tr>\n",
       "    <tr>\n",
       "      <th>2</th>\n",
       "      <td>：其位于科创园5楼其微信加对方微信对方称可以帮其办理分期贷款其相信其按照对方要求操作其通过其...</td>\n",
       "      <td>信贷理财</td>\n",
       "      <td>6.0</td>\n",
       "      <td>其位于科创园5楼其微信加对方微信对方称可以帮其办理分期贷款其相信其按照对方要求操作其通过其微...</td>\n",
       "      <td>位于 科创园 楼其微 信加 微信 帮其 办理 分期 贷款 操作 其微 信以 微信 扫码 方式...</td>\n",
       "    </tr>\n",
       "    <tr>\n",
       "      <th>3</th>\n",
       "      <td>：其看到可以进行刷单其微信加对方微信其按照对方要求操作其点开对方发来的链接其操作后其发现其微...</td>\n",
       "      <td>招聘兼职</td>\n",
       "      <td>5.0</td>\n",
       "      <td>其看到可以进行刷单其微信加对方微信其按照对方要求操作其点开对方发来的链接其操作后其发现其微信...</td>\n",
       "      <td>刷单 其微 信加 微信 操作 其点 开 发来 链接 操作 发现 其微 信分 多笔 转账 29...</td>\n",
       "    </tr>\n",
       "    <tr>\n",
       "      <th>4</th>\n",
       "      <td>：其在转转APP上看到一只猫事主就加对方微信事主微信。事主就和对方在微信上商量好价钱后事主用...</td>\n",
       "      <td>购物消费</td>\n",
       "      <td>3.0</td>\n",
       "      <td>其在转转APP上看到一只猫事主就加对方微信事主微信事主就和对方在微信上商量好价钱后事主用微信...</td>\n",
       "      <td>转转 APP 一只 猫 事主 就加 微信 事主 微信 事主 微信 商量 价钱 事主 微信 扫...</td>\n",
       "    </tr>\n",
       "  </tbody>\n",
       "</table>\n",
       "</div>"
      ],
      "text/plain": [
       "                                             content class  label  \\\n",
       "0  ：其在某地区客房门口其的MChat的APP软件收到一个自称是可以提供色情服务的客服信息MCh...  婚恋交友    4.0   \n",
       "1  某地区派出所接报案称：其位于某某路小区其系淘宝卖家其发现其淘宝店铺内有一笔订单申请退款但未有...  购物消费    3.0   \n",
       "2  ：其位于科创园5楼其微信加对方微信对方称可以帮其办理分期贷款其相信其按照对方要求操作其通过其...  信贷理财    6.0   \n",
       "3  ：其看到可以进行刷单其微信加对方微信其按照对方要求操作其点开对方发来的链接其操作后其发现其微...  招聘兼职    5.0   \n",
       "4  ：其在转转APP上看到一只猫事主就加对方微信事主微信。事主就和对方在微信上商量好价钱后事主用...  购物消费    3.0   \n",
       "\n",
       "                                       content_clean  \\\n",
       "0  其在某地区客房门口其的MChat的APP软件收到一个自称是可以提供色情服务的客服信息MCha...   \n",
       "1  某地区派出所接报案称其位于某某路小区其系淘宝卖家其发现其淘宝店铺内有一笔订单申请退款但未有实...   \n",
       "2  其位于科创园5楼其微信加对方微信对方称可以帮其办理分期贷款其相信其按照对方要求操作其通过其微...   \n",
       "3  其看到可以进行刷单其微信加对方微信其按照对方要求操作其点开对方发来的链接其操作后其发现其微信...   \n",
       "4  其在转转APP上看到一只猫事主就加对方微信事主微信事主就和对方在微信上商量好价钱后事主用微信...   \n",
       "\n",
       "                                         cut_content  \n",
       "0  地区 客房 门口 MChat APP 软件 收到 自称 提供 色情 服务 客服 信息 MCh...  \n",
       "1  地区 派出所 接 报案 称其 位于 路 小区 其系 淘宝 卖家 发现 淘宝 店铺 内有 一笔...  \n",
       "2  位于 科创园 楼其微 信加 微信 帮其 办理 分期 贷款 操作 其微 信以 微信 扫码 方式...  \n",
       "3  刷单 其微 信加 微信 操作 其点 开 发来 链接 操作 发现 其微 信分 多笔 转账 29...  \n",
       "4  转转 APP 一只 猫 事主 就加 微信 事主 微信 事主 微信 商量 价钱 事主 微信 扫...  "
      ]
     },
     "execution_count": 9,
     "metadata": {},
     "output_type": "execute_result"
    }
   ],
   "source": [
    "#将删除掉不需要字符后的内容进行分词，并过滤停用词，停用词是在语言处理中不需要的语气词，符号等\n",
    "data['cut_content'] = data['content_clean'].apply(lambda x: \" \".join([w for w in list(jieba.cut(x)) if w not in stopwords])) #去除停用词\n",
    "data.head()"
   ]
  },
  {
   "cell_type": "code",
   "execution_count": 10,
   "metadata": {
    "scrolled": true,
    "tags": []
   },
   "outputs": [
    {
     "data": {
      "text/html": [
       "<div>\n",
       "<style scoped>\n",
       "    .dataframe tbody tr th:only-of-type {\n",
       "        vertical-align: middle;\n",
       "    }\n",
       "\n",
       "    .dataframe tbody tr th {\n",
       "        vertical-align: top;\n",
       "    }\n",
       "\n",
       "    .dataframe thead th {\n",
       "        text-align: right;\n",
       "    }\n",
       "</style>\n",
       "<table border=\"1\" class=\"dataframe\">\n",
       "  <thead>\n",
       "    <tr style=\"text-align: right;\">\n",
       "      <th></th>\n",
       "      <th>content</th>\n",
       "      <th>class</th>\n",
       "      <th>label</th>\n",
       "      <th>content_clean</th>\n",
       "      <th>cut_content</th>\n",
       "    </tr>\n",
       "  </thead>\n",
       "  <tbody>\n",
       "    <tr>\n",
       "      <th>0</th>\n",
       "      <td>：其在某地区客房门口其的MChat的APP软件收到一个自称是可以提供色情服务的客服信息MCh...</td>\n",
       "      <td>婚恋交友</td>\n",
       "      <td>4.0</td>\n",
       "      <td>其在某地区客房门口其的MChat的APP软件收到一个自称是可以提供色情服务的客服信息MCha...</td>\n",
       "      <td>地区   客房   门口   MChat   APP   软件   收到   自称   提供...</td>\n",
       "    </tr>\n",
       "    <tr>\n",
       "      <th>1</th>\n",
       "      <td>某地区派出所接报案称：其位于某某路小区其系淘宝卖家其发现其淘宝店铺内有一笔订单申请退款但未有...</td>\n",
       "      <td>购物消费</td>\n",
       "      <td>3.0</td>\n",
       "      <td>某地区派出所接报案称其位于某某路小区其系淘宝卖家其发现其淘宝店铺内有一笔订单申请退款但未有实...</td>\n",
       "      <td>地区   派出所   接   报案   称其   位于   路   小区   其系   淘宝...</td>\n",
       "    </tr>\n",
       "    <tr>\n",
       "      <th>2</th>\n",
       "      <td>：其位于科创园5楼其微信加对方微信对方称可以帮其办理分期贷款其相信其按照对方要求操作其通过其...</td>\n",
       "      <td>信贷理财</td>\n",
       "      <td>6.0</td>\n",
       "      <td>其位于科创园5楼其微信加对方微信对方称可以帮其办理分期贷款其相信其按照对方要求操作其通过其微...</td>\n",
       "      <td>位于   科创园   楼其微   信加   微信   帮其   办理   分期   贷款  ...</td>\n",
       "    </tr>\n",
       "    <tr>\n",
       "      <th>3</th>\n",
       "      <td>：其看到可以进行刷单其微信加对方微信其按照对方要求操作其点开对方发来的链接其操作后其发现其微...</td>\n",
       "      <td>招聘兼职</td>\n",
       "      <td>5.0</td>\n",
       "      <td>其看到可以进行刷单其微信加对方微信其按照对方要求操作其点开对方发来的链接其操作后其发现其微信...</td>\n",
       "      <td>刷单   其微   信加   微信   操作   其点   开   发来   链接   操作...</td>\n",
       "    </tr>\n",
       "    <tr>\n",
       "      <th>4</th>\n",
       "      <td>：其在转转APP上看到一只猫事主就加对方微信事主微信。事主就和对方在微信上商量好价钱后事主用...</td>\n",
       "      <td>购物消费</td>\n",
       "      <td>3.0</td>\n",
       "      <td>其在转转APP上看到一只猫事主就加对方微信事主微信事主就和对方在微信上商量好价钱后事主用微信...</td>\n",
       "      <td>转转   APP   一只   猫   事主   就加   微信   事主   微信   事...</td>\n",
       "    </tr>\n",
       "  </tbody>\n",
       "</table>\n",
       "</div>"
      ],
      "text/plain": [
       "                                             content class  label  \\\n",
       "0  ：其在某地区客房门口其的MChat的APP软件收到一个自称是可以提供色情服务的客服信息MCh...  婚恋交友    4.0   \n",
       "1  某地区派出所接报案称：其位于某某路小区其系淘宝卖家其发现其淘宝店铺内有一笔订单申请退款但未有...  购物消费    3.0   \n",
       "2  ：其位于科创园5楼其微信加对方微信对方称可以帮其办理分期贷款其相信其按照对方要求操作其通过其...  信贷理财    6.0   \n",
       "3  ：其看到可以进行刷单其微信加对方微信其按照对方要求操作其点开对方发来的链接其操作后其发现其微...  招聘兼职    5.0   \n",
       "4  ：其在转转APP上看到一只猫事主就加对方微信事主微信。事主就和对方在微信上商量好价钱后事主用...  购物消费    3.0   \n",
       "\n",
       "                                       content_clean  \\\n",
       "0  其在某地区客房门口其的MChat的APP软件收到一个自称是可以提供色情服务的客服信息MCha...   \n",
       "1  某地区派出所接报案称其位于某某路小区其系淘宝卖家其发现其淘宝店铺内有一笔订单申请退款但未有实...   \n",
       "2  其位于科创园5楼其微信加对方微信对方称可以帮其办理分期贷款其相信其按照对方要求操作其通过其微...   \n",
       "3  其看到可以进行刷单其微信加对方微信其按照对方要求操作其点开对方发来的链接其操作后其发现其微信...   \n",
       "4  其在转转APP上看到一只猫事主就加对方微信事主微信事主就和对方在微信上商量好价钱后事主用微信...   \n",
       "\n",
       "                                         cut_content  \n",
       "0  地区   客房   门口   MChat   APP   软件   收到   自称   提供...  \n",
       "1  地区   派出所   接   报案   称其   位于   路   小区   其系   淘宝...  \n",
       "2  位于   科创园   楼其微   信加   微信   帮其   办理   分期   贷款  ...  \n",
       "3  刷单   其微   信加   微信   操作   其点   开   发来   链接   操作...  \n",
       "4  转转   APP   一只   猫   事主   就加   微信   事主   微信   事...  "
      ]
     },
     "execution_count": 10,
     "metadata": {},
     "output_type": "execute_result"
    }
   ],
   "source": [
    "#将删除掉不需要字符后的内容进行分词，并过滤停用词，停用词是在语言处理中不需要的语气词，符号等\n",
    "#感觉这步有点多余？因为不会再分词了\n",
    "data['cut_content'] = data['cut_content'].apply(lambda x: \" \".join([w for w in list(jieba.cut(x)) if w not in stopwords]))\n",
    "data.head()"
   ]
  },
  {
   "cell_type": "markdown",
   "metadata": {},
   "source": [
    "## LSTM"
   ]
  },
  {
   "cell_type": "code",
   "execution_count": 11,
   "metadata": {
    "tags": []
   },
   "outputs": [
    {
     "name": "stdout",
     "output_type": "stream",
     "text": [
      "共有 4335 个不相同的词语.\n"
     ]
    }
   ],
   "source": [
    "# 设置最频繁使用的50000个词\n",
    "max_words = 2000 #50000\n",
    "# 每条cut_review最大的长度\n",
    "max_len = 150 #250\n",
    "# 设置Embeddingceng层的维度\n",
    "embedding_dim = 200\n",
    " \n",
    "tokenizer = Tokenizer(num_words=max_words) #分词，即文本拆分为标记的过程\n",
    "tokenizer.fit_on_texts(data['cut_content'].values) #用以训练的文本列表\n",
    "word_index = tokenizer.word_index #将单词（字符串）映射为它们的排名或者索引\n",
    "print('共有 %s 个不相同的词语.' % len(word_index))"
   ]
  },
  {
   "cell_type": "code",
   "execution_count": 12,
   "metadata": {
    "tags": []
   },
   "outputs": [],
   "source": [
    "from tensorflow.keras.preprocessing.sequence import pad_sequences"
   ]
  },
  {
   "cell_type": "code",
   "execution_count": 13,
   "metadata": {
    "tags": []
   },
   "outputs": [
    {
     "name": "stdout",
     "output_type": "stream",
     "text": [
      "(880, 150)\n",
      "(880, 9)\n"
     ]
    }
   ],
   "source": [
    "# 文本转化为序列\n",
    "X = tokenizer.texts_to_sequences(data['cut_content'].values) #\n",
    "\n",
    "#填充X,让X的各个列的长度统一\n",
    "X = pad_sequences(X, maxlen=max_len) #截取为相同长度的序列\n",
    " \n",
    "#多类标签的onehot展开\n",
    "Y = pd.get_dummies(data['label']).values #对标签进行独热编码category\n",
    "print(X.shape)\n",
    "print(Y.shape)"
   ]
  },
  {
   "cell_type": "code",
   "execution_count": 14,
   "metadata": {
    "code_folding": [],
    "tags": []
   },
   "outputs": [],
   "source": [
    "#拆分训练集和测试集\n",
    "#X_train, X_test, Y_train, Y_test = train_test_split(X,Y, test_size = 0.20, random_state = 42)\n",
    "#print(X_train,Y_train)\n",
    "#print('*'*100)\n",
    "#print(X_test.shape,Y_test.shape)"
   ]
  },
  {
   "cell_type": "code",
   "execution_count": 15,
   "metadata": {},
   "outputs": [],
   "source": [
    "#拆分数据集，取80%留作训练和测试，20%用作验证\n",
    "X_train = X[:int(len(X)*0.8)]\n",
    "X_test = X[int(len(X)*0.8):]\n",
    "Y_train = Y[:int(len(Y)*0.8)]\n",
    "Y_test = Y[int(len(Y)*0.8):]"
   ]
  },
  {
   "cell_type": "code",
   "execution_count": 16,
   "metadata": {},
   "outputs": [],
   "source": [
    "# 设置最频繁使用的50000个词\n",
    "max_words = 2000 #50000\n",
    "# 每条cut_review最大的长度\n",
    "max_len = 150 #250\n",
    "# 设置Embeddingceng层的维度\n",
    "embedding_dim = 200"
   ]
  },
  {
   "cell_type": "code",
   "execution_count": 17,
   "metadata": {},
   "outputs": [],
   "source": [
    "from keras.layers import Dropout, Dense, LSTM, SpatialDropout1D#, sparse_categorical_crossentropy\n",
    "#定义模型\n",
    "#神经网络非常容易过拟合，可以通过减少层数，减少神经元个数等方法调节模型\n",
    "model = Sequential() #设置神经网络序列\n",
    "model.add(Embedding(input_dim=max_words, output_dim=embedding_dim)) #embedding层，设置输入输出维度\n",
    "model.add(SpatialDropout1D(0.3)) #对一维特征图（feature map）进行dropout\n",
    "# recurrent_dropout=0.3用于控制循环状态的线性变换的神经元断开比例\n",
    "model.add(LSTM(100, dropout=0.3, recurrent_dropout=0.3, return_sequences=True)) #LSTM层，丢弃30%。若后面还需要接LSTM层，则return_sequences=True\n",
    "model.add(LSTM(50, dropout=0.3, recurrent_dropout=0.3)) #LSTM层，丢弃30%\n",
    "model.add(Dense(9, activation='softmax')) # 全连接层，转化为要预测的类别数"
   ]
  },
  {
   "cell_type": "code",
   "execution_count": 18,
   "metadata": {},
   "outputs": [],
   "source": [
    "#配置模型\n",
    "model.compile(loss='categorical_crossentropy', #多分类交叉熵损失函数\n",
    "              optimizer='RMSProp', #优化器\n",
    "              metrics=['accuracy'] #评估指标\n",
    "             ) "
   ]
  },
  {
   "cell_type": "code",
   "execution_count": 19,
   "metadata": {},
   "outputs": [],
   "source": [
    "#只有 880条数据对神经网络模型是非常少的，上面我们又将其拆分为训练测试和验证部分，所以在模型训练和测试时更容易发生过拟合。\n",
    "#可以再训练时只进行训练集和测试集，不设置验证集，模型准确率会好很多。"
   ]
  },
  {
   "cell_type": "code",
   "execution_count": 20,
   "metadata": {},
   "outputs": [],
   "source": [
    "#导入\n",
    "from keras.callbacks import EarlyStopping\n",
    "# monitor:监视参数，min_delta:小于此数认为不变化（最小提升度），mode:loss小好，acc大好，patience:n周期无提升则退出， verbose=1精确模式\n",
    "monitor = EarlyStopping(monitor='val_acc', min_delta=0.1, patience=4, verbose=1, mode='auto')"
   ]
  },
  {
   "cell_type": "code",
   "execution_count": 21,
   "metadata": {
    "scrolled": true
   },
   "outputs": [
    {
     "name": "stdout",
     "output_type": "stream",
     "text": [
      "Epoch 1/10\n",
      "2/2 [==============================] - 9s 3s/step - loss: 2.1845 - accuracy: 0.1456 - val_loss: 2.0976 - val_accuracy: 0.1915\n",
      "Epoch 2/10\n",
      "2/2 [==============================] - 5s 2s/step - loss: 2.0882 - accuracy: 0.2824 - val_loss: 2.0409 - val_accuracy: 0.1915\n",
      "Epoch 3/10\n",
      "2/2 [==============================] - 8s 3s/step - loss: 1.9923 - accuracy: 0.2824 - val_loss: 1.9468 - val_accuracy: 0.1915\n",
      "Epoch 4/10\n",
      "2/2 [==============================] - 9s 4s/step - loss: 1.8921 - accuracy: 0.2824 - val_loss: 1.9072 - val_accuracy: 0.1915\n",
      "Epoch 5/10\n",
      "2/2 [==============================] - 9s 4s/step - loss: 1.8515 - accuracy: 0.2824 - val_loss: 1.8961 - val_accuracy: 0.1915\n",
      "Epoch 6/10\n",
      "2/2 [==============================] - 9s 4s/step - loss: 1.8054 - accuracy: 0.2824 - val_loss: 1.8581 - val_accuracy: 0.2695\n",
      "Epoch 7/10\n",
      "2/2 [==============================] - 10s 3s/step - loss: 1.7984 - accuracy: 0.3357 - val_loss: 1.8570 - val_accuracy: 0.3404\n",
      "Epoch 8/10\n",
      "2/2 [==============================] - 9s 3s/step - loss: 1.7570 - accuracy: 0.4103 - val_loss: 1.7534 - val_accuracy: 0.2340\n",
      "Epoch 9/10\n",
      "2/2 [==============================] - 12s 4s/step - loss: 1.5912 - accuracy: 0.3996 - val_loss: 1.9219 - val_accuracy: 0.2057\n",
      "Epoch 10/10\n",
      "2/2 [==============================] - 9s 3s/step - loss: 1.6541 - accuracy: 0.3961 - val_loss: 1.6853 - val_accuracy: 0.3333\n"
     ]
    }
   ],
   "source": [
    "epochs = 10  #5\n",
    "batch_size = 400 #64\n",
    "#训练模型\n",
    "history = model.fit(X_train, #训练集\n",
    "                    Y_train, #标签\n",
    "                    epochs=10 , #训练轮数\n",
    "                    batch_size=400, #每次训练抽取样本数\n",
    "#                    callbacks = [monitor],\n",
    "                    validation_split=0.2, #验证集比例；相当于在训练集上再分出来一部分当验证集\n",
    "                    #validation_data=(X_test,Y_test) #验证集\n",
    "                   )"
   ]
  },
  {
   "cell_type": "code",
   "execution_count": 22,
   "metadata": {},
   "outputs": [
    {
     "name": "stdout",
     "output_type": "stream",
     "text": [
      "Model: \"sequential\"\n",
      "_________________________________________________________________\n",
      "Layer (type)                 Output Shape              Param #   \n",
      "=================================================================\n",
      "embedding (Embedding)        (None, None, 200)         400000    \n",
      "_________________________________________________________________\n",
      "spatial_dropout1d (SpatialDr (None, None, 200)         0         \n",
      "_________________________________________________________________\n",
      "lstm (LSTM)                  (None, None, 100)         120400    \n",
      "_________________________________________________________________\n",
      "lstm_1 (LSTM)                (None, 50)                30200     \n",
      "_________________________________________________________________\n",
      "dense (Dense)                (None, 9)                 459       \n",
      "=================================================================\n",
      "Total params: 551,059\n",
      "Trainable params: 551,059\n",
      "Non-trainable params: 0\n",
      "_________________________________________________________________\n"
     ]
    }
   ],
   "source": [
    "model.summary() #模型结构"
   ]
  },
  {
   "cell_type": "code",
   "execution_count": 23,
   "metadata": {},
   "outputs": [
    {
     "data": {
      "image/png": "[encoded data removed]",
      "text/plain": [
       "<Figure size 640x480 with 1 Axes>"
      ]
     },
     "metadata": {},
     "output_type": "display_data"
    },
    {
     "data": {
      "image/png": "[encoded data removed]",
      "text/plain": [
       "<Figure size 640x480 with 1 Axes>"
      ]
     },
     "metadata": {},
     "output_type": "display_data"
    }
   ],
   "source": [
    "#绘制损失值和准确率曲线\n",
    "import matplotlib.pyplot as plt  \n",
    "plt.title('Loss')\n",
    "plt.plot(history.history['loss'], label='train') #训练集损失\n",
    "plt.plot(history.history['val_loss'], label='test') #测试集损失\n",
    "plt.legend() # 添加图例\n",
    "plt.show()\n",
    "\n",
    "plt.title('Accuracy')\n",
    "plt.plot(history.history['accuracy'], label='train') #训练集准确率\n",
    "plt.plot(history.history['val_accuracy'], label='test') #测试集准确率\n",
    "plt.legend()\n",
    "plt.show()"
   ]
  },
  {
   "cell_type": "code",
   "execution_count": 24,
   "metadata": {},
   "outputs": [
    {
     "name": "stdout",
     "output_type": "stream",
     "text": [
      "6/6 [==============================] - 1s 141ms/step - loss: 1.6468 - accuracy: 0.4034\n"
     ]
    },
    {
     "data": {
      "text/plain": [
       "[1.6467604637145996, 0.40340909361839294]"
      ]
     },
     "execution_count": 24,
     "metadata": {},
     "output_type": "execute_result"
    }
   ],
   "source": [
    "#loss acc\n",
    "model.evaluate(X_test,Y_test) #测试集评估"
   ]
  },
  {
   "cell_type": "code",
   "execution_count": 25,
   "metadata": {},
   "outputs": [],
   "source": [
    "#保存模型  \n",
    "#from keras.utils import plot_model  \n",
    "\n",
    "model.save('model_LSTM.h5')  #  生成模型文件 'my_model.h5'  "
   ]
  },
  {
   "cell_type": "code",
   "execution_count": 26,
   "metadata": {},
   "outputs": [],
   "source": [
    "#加载模型 \n",
    "from keras.models import load_model \n",
    "\n",
    "model2 = load_model('model_LSTM.h5') #加载储存的模型"
   ]
  },
  {
   "cell_type": "code",
   "execution_count": 27,
   "metadata": {},
   "outputs": [
    {
     "data": {
      "text/plain": [
       "array([0, 2, 5, 5, 0, 5, 5, 5, 5, 5, 5, 5, 5, 4, 4, 5, 5, 5, 5, 4, 4, 4,\n",
       "       4, 5, 2, 5, 5, 5, 4, 4, 5, 5, 5, 5, 5, 4, 5, 5, 2, 5, 5, 5, 2, 5,\n",
       "       5, 5, 2, 5, 5, 5, 5, 4, 0, 5, 5, 5, 5, 5, 2, 3, 5, 5, 5, 5, 5, 5,\n",
       "       5, 5, 4, 5, 4, 5, 5, 5, 5, 5, 2, 2, 5, 2, 2, 5, 5, 2, 5, 5, 5, 5,\n",
       "       5, 5, 5, 4, 5, 5, 2, 5, 4, 2, 4, 4, 4, 5, 5, 5, 7, 0, 4, 4, 4, 8,\n",
       "       4, 5, 5, 5, 5, 4, 5, 5, 7, 5, 2, 2, 5, 2, 2, 5, 5, 5, 5, 5, 2, 2,\n",
       "       5, 5, 5, 2, 2, 5, 5, 2, 5, 5, 2, 5, 2, 5, 5, 2, 5, 5, 5, 5, 4, 2,\n",
       "       2, 5, 5, 2, 4, 2, 2, 7, 5, 5, 5, 4, 4, 7, 2, 2, 4, 5, 5, 4, 4, 4],\n",
       "      dtype=int64)"
      ]
     },
     "execution_count": 27,
     "metadata": {},
     "output_type": "execute_result"
    }
   ],
   "source": [
    "#验证集标签预测\n",
    "y_pred = model2.predict(X_test) #对验证集进行预测，预测结果为概率\n",
    "y_pred = y_pred.argmax(axis = 1) #每行最大值的索引，即概率最大的索引也是标签\n",
    "y_pred"
   ]
  },
  {
   "cell_type": "code",
   "execution_count": 28,
   "metadata": {},
   "outputs": [
    {
     "data": {
      "text/plain": [
       "array([0, 2, 5, 2, 0, 1, 7, 2, 0, 8, 5, 3, 2, 3, 0, 5, 0, 2, 2, 2, 2, 4,\n",
       "       2, 5, 0, 2, 4, 2, 5, 2, 7, 5, 5, 0, 1, 2, 8, 5, 8, 7, 8, 4, 8, 4,\n",
       "       4, 4, 2, 7, 4, 4, 8, 4, 0, 5, 5, 7, 7, 7, 2, 8, 8, 7, 7, 7, 5, 2,\n",
       "       1, 0, 2, 0, 2, 5, 7, 7, 5, 3, 2, 2, 5, 3, 2, 4, 5, 2, 0, 0, 5, 5,\n",
       "       4, 7, 1, 4, 4, 5, 2, 0, 4, 2, 4, 4, 4, 5, 5, 5, 7, 0, 2, 4, 2, 8,\n",
       "       0, 5, 5, 0, 3, 2, 1, 5, 7, 0, 3, 2, 7, 8, 2, 2, 5, 5, 7, 5, 2, 2,\n",
       "       5, 5, 2, 8, 3, 0, 2, 3, 0, 7, 2, 7, 3, 0, 7, 3, 5, 5, 4, 5, 4, 2,\n",
       "       2, 5, 5, 3, 2, 3, 3, 7, 7, 5, 5, 0, 0, 7, 2, 2, 2, 0, 2, 0, 2, 2],\n",
       "      dtype=int64)"
      ]
     },
     "execution_count": 28,
     "metadata": {},
     "output_type": "execute_result"
    }
   ],
   "source": [
    "Y_test.argmax(axis=1)"
   ]
  },
  {
   "cell_type": "code",
   "execution_count": 29,
   "metadata": {},
   "outputs": [
    {
     "data": {
      "text/plain": [
       "Text(0.5, 60.7222222222222, '预测结果')"
      ]
     },
     "execution_count": 29,
     "metadata": {},
     "output_type": "execute_result"
    },
    {
     "data": {
      "image/png": "[encoded data removed]",
      "text/plain": [
       "<Figure size 1000x800 with 2 Axes>"
      ]
     },
     "metadata": {},
     "output_type": "display_data"
    }
   ],
   "source": [
    "import seaborn as sns\n",
    "from sklearn.metrics import  confusion_matrix\n",
    "plt.rcParams['font.sans-serif'] = ['SimHei'] #用来正常显示中文标签\n",
    "plt.rcParams['axes.unicode_minus'] = False #用来正常显示负号\n",
    "\n",
    "conf_mat = confusion_matrix(Y_test.argmax(axis=1) , y_pred) #混淆矩阵\n",
    "fig = plt.figure(figsize=(10,8)) #设置图像大小\n",
    "sns.heatmap(conf_mat, annot=True, fmt='d') #绘制热度图\n",
    "plt.ylabel('实际结果',fontsize=18)\n",
    "plt.xlabel('预测结果',fontsize=18)"
   ]
  },
  {
   "cell_type": "code",
   "execution_count": null,
   "metadata": {},
   "outputs": [],
   "source": []
  },
  {
   "cell_type": "code",
   "execution_count": null,
   "metadata": {},
   "outputs": [],
   "source": []
  },
  {
   "cell_type": "code",
   "execution_count": null,
   "metadata": {},
   "outputs": [],
   "source": []
  },
  {
   "cell_type": "code",
   "execution_count": null,
   "metadata": {},
   "outputs": [],
   "source": []
  }
 ],
 "metadata": {
  "kernelspec": {
   "display_name": "qingjiao",
   "language": "python",
   "name": "python3"
  },
  "language_info": {
   "codemirror_mode": {
    "name": "ipython",
    "version": 3
   },
   "file_extension": ".py",
   "mimetype": "text/x-python",
   "name": "python",
   "nbconvert_exporter": "python",
   "pygments_lexer": "ipython3",
   "version": "3.7.16"
  }
 },
 "nbformat": 4,
 "nbformat_minor": 4
}
