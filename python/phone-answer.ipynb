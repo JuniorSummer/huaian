{
 "cells": [
  {
   "cell_type": "markdown",
   "metadata": {},
   "source": [
    "现有某大学校园新生手机号登记信息，要求对手机号进行运营商归类，届时运营商可结合市场份额推出不同套餐服务，便于后续进行产品销售宣传，但手工统计非常耗时，请你按程序文件的注释，将Python代码补充完整，使用程序完成统计任务，运行程序并输出结果。<br>\n",
    "\n",
    "参考：<br>\n",
    "1.运营商的号段分布(仅供本赛题参考使用)；<br>\n",
    "  1）中国联通：130，131，132，155，156，185，186，145，176<br>\n",
    "  2）中国移动：134, 135 , 136, 137, 138, 139, 147, 150, 151,152, 157, 158, 159, 178, 182, 183, 184, 187, 188<br>\n",
    "  3）中国电信：133,153,189<br>\n",
    "2.判断手机号是否合法，依次按照长度(11位)、字符(只包含数字)、号段进行判断归类，若一个手机号长度和字符都不合法，按照顺序，需要将其划分到长度不合法里面；<br>\n",
    "3.判断手机号是否重复；<br>\n",
    "4.根据给定的学生信息进行手机号数据文件（同目录下phone.txt）读取数据；<br>\n",
    "5.运行输出为：移动数量为？个,联通数量为？个,电信数量为？个,长度不合法数量为？个,字符不合法为？个,号段不合法数量为？个。<br>"
   ]
  },
  {
   "cell_type": "code",
   "execution_count": 1,
   "metadata": {},
   "outputs": [
    {
     "name": "stdout",
     "output_type": "stream",
     "text": [
      "移动数量为25个,联通数量为316个,电信数量为56个,长度不合法数量为4个,字符不合法数量为4个,号段不合法数量为43个.\n"
     ]
    }
   ],
   "source": [
    "cm = 0   # 中国移动个数\n",
    "cu = 0   # 中国联通个数\n",
    "ct = 0   # 通过电信个数\n",
    "lenerr = 0    # 长度不合法个数\n",
    "digiterr = 0  # 字符不合法个数\n",
    "preerr = 0    # 号段不合法个数\n",
    "\n",
    "\n",
    "# 字段\n",
    "phone_prefix = ['130','131','132','155','156','185','186','145','176','134','135','136','137','138','139','147','150',\\\n",
    "    '151','152','157','158','159','178','182','183','184','187','188','133','153','189']\n",
    "\n",
    "with open('/home/qingjiao/手机号运营商分类/phone.txt','r') as file:                  \n",
    "    phone_list = file.readlines()           # 读取数据\n",
    "\n",
    "for phone_num in phone_list:\n",
    "    phone_num = phone_num.strip()                                 # 补充代码，确认手机号是否合法\n",
    "    if len(phone_num) != 11:                                     # 依次判断长度，字符(纯数字)，号段\n",
    "        lenerr += 1\n",
    "    else:\n",
    "        if phone_num.isdigit():\n",
    "            if phone_num[:3] in phone_prefix:\n",
    "                if phone_num[:3] in phone_prefix[0:9]:  #联通\n",
    "                    cu+=1\n",
    "                elif phone_num[:3] in phone_prefix[-3:]:   #电信\n",
    "                    ct+=1\n",
    "                else:\n",
    "                    cm+=1  #移动\n",
    "            else:\n",
    "                preerr+=1\n",
    "        else:\n",
    "            digiterr+=1\n",
    "\n",
    "\n",
    "print('移动数量为%d个,联通数量为%d个,电信数量为%d个,长度不合法数量为%d个,字符不合法数量为%d个,号段不合法数量为%d个.' % (cm, cu, ct,lenerr,digiterr,preerr))"
   ]
  },
  {
   "cell_type": "code",
   "execution_count": 2,
   "metadata": {},
   "outputs": [
    {
     "data": {
      "image/png": "[encoded data removed]",
      "text/plain": [
       "<Figure size 576x576 with 1 Axes>"
      ]
     },
     "metadata": {
      "needs_background": "light"
     },
     "output_type": "display_data"
    }
   ],
   "source": [
    "#可视化\n",
    "import matplotlib.pyplot as plt\n",
    "\n",
    "#运营商名称及不合法项目\n",
    "name = ['联通','移动','电信','长度不合法','号段不合法','字符不合法']\n",
    "#号码个数\n",
    "num = [cm, cu, ct,lenerr,preerr,digiterr]\n",
    "\n",
    "plt.figure(figsize=(8,8)) #设置图像大小\n",
    "plt.bar(name,num) #绘制柱状图（或条形图）\n",
    "plt.xticks(rotation=45) #x轴标签倾斜45度\n",
    "plt.show() #展示图像"
   ]
  },
  {
   "cell_type": "code",
   "execution_count": null,
   "metadata": {},
   "outputs": [],
   "source": []
  }
 ],
 "metadata": {
  "kernelspec": {
   "display_name": "Python 3",
   "language": "python",
   "name": "python3"
  },
  "language_info": {
   "codemirror_mode": {
    "name": "ipython",
    "version": 3
   },
   "file_extension": ".py",
   "mimetype": "text/x-python",
   "name": "python",
   "nbconvert_exporter": "python",
   "pygments_lexer": "ipython3",
   "version": "3.8.5"
  },
  "toc": {
   "base_numbering": 1,
   "nav_menu": {},
   "number_sections": true,
   "sideBar": true,
   "skip_h1_title": false,
   "title_cell": "Table of Contents",
   "title_sidebar": "Contents",
   "toc_cell": false,
   "toc_position": {},
   "toc_section_display": true,
   "toc_window_display": false
  }
 },
 "nbformat": 4,
 "nbformat_minor": 4
}
