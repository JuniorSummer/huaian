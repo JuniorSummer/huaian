{
 "cells": [
  {
   "cell_type": "markdown",
   "id": "b704d01a",
   "metadata": {},
   "source": [
    "现有二手房信息，要求读取数据，对数据进行清晰，并计算所有区域的二手房均价，并绘图展示。"
   ]
  },
  {
   "cell_type": "code",
   "execution_count": 2,
   "id": "59c47566",
   "metadata": {},
   "outputs": [
    {
     "data": {
      "text/html": [
       "<div>\n",
       "<style scoped>\n",
       "    .dataframe tbody tr th:only-of-type {\n",
       "        vertical-align: middle;\n",
       "    }\n",
       "\n",
       "    .dataframe tbody tr th {\n",
       "        vertical-align: top;\n",
       "    }\n",
       "\n",
       "    .dataframe thead th {\n",
       "        text-align: right;\n",
       "    }\n",
       "</style>\n",
       "<table border=\"1\" class=\"dataframe\">\n",
       "  <thead>\n",
       "    <tr style=\"text-align: right;\">\n",
       "      <th></th>\n",
       "      <th>序号</th>\n",
       "      <th>小区名字</th>\n",
       "      <th>总价</th>\n",
       "      <th>户型</th>\n",
       "      <th>建筑面积</th>\n",
       "      <th>单价</th>\n",
       "      <th>朝向</th>\n",
       "      <th>楼层</th>\n",
       "      <th>装修</th>\n",
       "      <th>区域</th>\n",
       "    </tr>\n",
       "  </thead>\n",
       "  <tbody>\n",
       "    <tr>\n",
       "      <th>0</th>\n",
       "      <td>0</td>\n",
       "      <td>中天北湾新城</td>\n",
       "      <td>89万</td>\n",
       "      <td>2室2厅1卫</td>\n",
       "      <td>89平米</td>\n",
       "      <td>10000元/平米</td>\n",
       "      <td>南北</td>\n",
       "      <td>低层</td>\n",
       "      <td>毛坯</td>\n",
       "      <td>高新</td>\n",
       "    </tr>\n",
       "    <tr>\n",
       "      <th>1</th>\n",
       "      <td>1</td>\n",
       "      <td>桦林苑</td>\n",
       "      <td>99.8万</td>\n",
       "      <td>3室2厅1卫</td>\n",
       "      <td>143平米</td>\n",
       "      <td>6979元/平米</td>\n",
       "      <td>南北</td>\n",
       "      <td>中层</td>\n",
       "      <td>毛坯</td>\n",
       "      <td>净月</td>\n",
       "    </tr>\n",
       "    <tr>\n",
       "      <th>2</th>\n",
       "      <td>2</td>\n",
       "      <td>嘉柏湾</td>\n",
       "      <td>32万</td>\n",
       "      <td>1室1厅1卫</td>\n",
       "      <td>43.3平米</td>\n",
       "      <td>7390元/平米</td>\n",
       "      <td>南</td>\n",
       "      <td>高层</td>\n",
       "      <td>精装修</td>\n",
       "      <td>经开</td>\n",
       "    </tr>\n",
       "    <tr>\n",
       "      <th>3</th>\n",
       "      <td>3</td>\n",
       "      <td>中环12区</td>\n",
       "      <td>51.5万</td>\n",
       "      <td>2室1厅1卫</td>\n",
       "      <td>57平米</td>\n",
       "      <td>9035元/平米</td>\n",
       "      <td>南北</td>\n",
       "      <td>高层</td>\n",
       "      <td>精装修</td>\n",
       "      <td>南关</td>\n",
       "    </tr>\n",
       "    <tr>\n",
       "      <th>4</th>\n",
       "      <td>4</td>\n",
       "      <td>昊源高格蓝湾</td>\n",
       "      <td>210万</td>\n",
       "      <td>3室2厅2卫</td>\n",
       "      <td>160.8平米</td>\n",
       "      <td>13060元/平米</td>\n",
       "      <td>南北</td>\n",
       "      <td>高层</td>\n",
       "      <td>精装修</td>\n",
       "      <td>二道</td>\n",
       "    </tr>\n",
       "  </tbody>\n",
       "</table>\n",
       "</div>"
      ],
      "text/plain": [
       "   序号      小区名字    总价       户型   建筑面积          单价  朝向  楼层  \\\n",
       "0     0  中天北湾新城    89万  2室2厅1卫     89平米  10000元/平米  南北  低层   \n",
       "1     1        桦林苑  99.8万  3室2厅1卫    143平米   6979元/平米  南北  中层   \n",
       "2     2        嘉柏湾    32万  1室1厅1卫   43.3平米   7390元/平米    南  高层   \n",
       "3     3      中环12区  51.5万  2室1厅1卫     57平米   9035元/平米  南北  高层   \n",
       "4     4  昊源高格蓝湾   210万  3室2厅2卫  160.8平米  13060元/平米  南北  高层   \n",
       "\n",
       "     装修  区域  \n",
       "0    毛坯  高新  \n",
       "1    毛坯  净月  \n",
       "2  精装修  经开  \n",
       "3  精装修  南关  \n",
       "4  精装修  二道  "
      ]
     },
     "execution_count": 2,
     "metadata": {},
     "output_type": "execute_result"
    }
   ],
   "source": [
    "import pandas as pd  # 导入pandas模块\n",
    "pd.set_option('display.unicode.east_asian_width', True) # 解决数据输出时列名不对齐的问题\n",
    "# 导入csv数据文件\n",
    "house = pd.read_csv('house.csv')\n",
    "house.head(5) # 输出前5条数据"
   ]
  },
  {
   "cell_type": "code",
   "execution_count": 3,
   "id": "fcbab900",
   "metadata": {},
   "outputs": [
    {
     "name": "stdout",
     "output_type": "stream",
     "text": [
      "       小区名字   总价       户型  建筑面积     单价  朝向  楼层    装修  区域\n",
      "0  中天北湾新城   89.0  2室2厅1卫      89.0  10000.0  南北  低层    毛坯  高新\n",
      "1        桦林苑   99.8  3室2厅1卫     143.0   6979.0  南北  中层    毛坯  净月\n",
      "2        嘉柏湾   32.0  1室1厅1卫      43.3   7390.0    南  高层  精装修  经开\n",
      "3      中环12区   51.5  2室1厅1卫      57.0   9035.0  南北  高层  精装修  南关\n",
      "4  昊源高格蓝湾  210.0  3室2厅2卫     160.8  13060.0  南北  高层  精装修  二道\n"
     ]
    }
   ],
   "source": [
    "house.drop(columns='序号', inplace=True)  # 将索引列删除\n",
    "house.dropna(axis=0, how='any', inplace=True)  # 删除house数据中的所有空值\n",
    "house['单价'] = house['单价'].map(lambda d: d.replace('元/平米', ''))  # 将单价“元/平米”去掉\n",
    "house['单价'] = house['单价'].astype(float)  # 将房子单价转换为浮点类型\n",
    "house['总价'] = house['总价'].map(lambda z: z.replace('万', ''))  # 将总价“万”去掉\n",
    "house['总价'] = house['总价'].astype(float)  # 将房子总价转换为浮点类型\n",
    "house['建筑面积'] = house['建筑面积'].map(lambda p: p.replace('平米', ''))  # 将建筑面价“平米”去掉\n",
    "house['建筑面积'] = house['建筑面积'].astype(float)  # 将建筑面积转换为浮点类型\n",
    "print(house.head())  # 输出前5条数据\n",
    "house.to_csv('./house_completed.csv')  #数据导出为csv文件"
   ]
  },
  {
   "cell_type": "code",
   "execution_count": 4,
   "id": "176c4bc7",
   "metadata": {},
   "outputs": [
    {
     "name": "stdout",
     "output_type": "stream",
     "text": [
      "区域\n",
      "二道     9642.367347\n",
      "净月    12426.877133\n",
      "南关    10602.396887\n",
      "宽城     8062.537594\n",
      "朝阳    14328.618834\n",
      "汽开     9176.100000\n",
      "经开     9369.863333\n",
      "绿园     9654.157895\n",
      "高新    11009.233161\n",
      "Name: 单价, dtype: float64\n"
     ]
    },
    {
     "data": {
      "text/plain": [
       "(Index(['二道', '净月', '南关', '宽城', '朝阳', '汽开', '经开', '绿园', '高新'], dtype='object', name='区域'),\n",
       " array([ 9642, 12426, 10602,  8062, 14328,  9176,  9369,  9654, 11009]))"
      ]
     },
     "execution_count": 4,
     "metadata": {},
     "output_type": "execute_result"
    }
   ],
   "source": [
    "import pandas as pd  # 导入pandas模块\n",
    "import matplotlib.pyplot as plt  # 导入matplotlib中的pyplot模块\n",
    "\n",
    "# 解决数据输出时列名不对齐的问题\n",
    "pd.set_option('display.unicode.east_asian_width', True)\n",
    "\n",
    "# 获取各区二手房均价分析\n",
    "def get_average_price():\n",
    "    group = house.groupby('区域')  # 将房子区域分组\n",
    "    average_price_group = group['单价'].mean()  # 计算每个区域的均价\n",
    "    print(average_price_group)  # 输出各区二手房的均价信息\n",
    "    region = average_price_group.index  # 区域\n",
    "    average_price = average_price_group.values.astype(int)  # 区域对应的均价，转换成int类型\n",
    "    return region, average_price  # 返回区域与对应的均价\n",
    "\n",
    "\n",
    "# 调用函数\n",
    "get_average_price()\n"
   ]
  },
  {
   "cell_type": "code",
   "execution_count": 5,
   "id": "9a398eec",
   "metadata": {},
   "outputs": [
    {
     "data": {
      "image/png": "[encoded data removed]",
      "text/plain": [
       "<Figure size 640x480 with 1 Axes>"
      ]
     },
     "metadata": {},
     "output_type": "display_data"
    }
   ],
   "source": [
    "import pandas as pd  # 导入pandas模块\n",
    "import matplotlib.pyplot as plt  # 导入matplotlib中的pyplot模块\n",
    "\n",
    "# 解决数据输出时列名不对齐的问题\n",
    "pd.set_option('display.unicode.east_asian_width', True)\n",
    "# 手动添加黑体字体，解决中文乱码问题\n",
    "plt.rcParams['font.sans-serif'] = ['SimHei']\n",
    "# 导入csv数据文件\n",
    "# house = pd.read_csv('/home/qingjiao/Document/data/17_2/house_completed.csv')\n",
    "\n",
    "\n",
    "# 获取各区二手房均价分析\n",
    "def get_average_price():\n",
    "    group = house.groupby('区域')  # 将房子区域分组\n",
    "    average_price_group = group['单价'].mean()  # 计算每个区域的均价\n",
    "    #    print(average_price_group)  # 输出各区二手房的均价信息\n",
    "    region = average_price_group.index  # 区域\n",
    "    average_price = average_price_group.values.astype(int)  # 区域对应的均价，转换成int类型\n",
    "    return region, average_price  # 返回区域与对应的均价\n",
    "\n",
    "\n",
    "# 绘制并显示各区二手房均价分析图\n",
    "def show_average_price():\n",
    "    region, average_price = get_average_price()  # 获取房子区域与均价\n",
    "    # 绘制柱形图，柱子宽度0.7，居中\n",
    "    plt.bar(region, average_price, width=0.7, align='center')\n",
    "    plt.title('各区二手房均价分析', fontsize=18)  # 设置图表标题，大小为18\n",
    "    plt.xlabel('区域')  # x轴标题\n",
    "    plt.ylabel('均价（元/平米）')  # y轴标题\n",
    "    # 设置每个柱子的文本标签，format(b,',')表示格式化均价为千位分隔符格式\n",
    "    for a, b in zip(region, average_price):\n",
    "        plt.text(a, b, format(b, ','), ha='center', va='bottom', fontsize=10, color='b')\n",
    "    plt.show()  # 显示图表\n",
    "\n",
    "\n",
    "# 调用函数\n",
    "show_average_price()"
   ]
  },
  {
   "cell_type": "code",
   "execution_count": null,
   "id": "aa38f65b",
   "metadata": {},
   "outputs": [],
   "source": []
  }
 ],
 "metadata": {
  "kernelspec": {
   "display_name": "Python 3 (ipykernel)",
   "language": "python",
   "name": "python3"
  },
  "language_info": {
   "codemirror_mode": {
    "name": "ipython",
    "version": 3
   },
   "file_extension": ".py",
   "mimetype": "text/x-python",
   "name": "python",
   "nbconvert_exporter": "python",
   "pygments_lexer": "ipython3",
   "version": "3.8.5"
  }
 },
 "nbformat": 4,
 "nbformat_minor": 5
}
