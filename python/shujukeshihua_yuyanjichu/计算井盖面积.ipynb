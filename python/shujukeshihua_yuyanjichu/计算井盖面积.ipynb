{
 "cells": [
  {
   "cell_type": "markdown",
   "id": "e34c8486",
   "metadata": {},
   "source": [
    "### 背景\n",
    "现有直径50cm的下水道井盖，求其面积并打印结果(结果保留整数)，单位平方厘米。\n",
    "其中π直接引用数学库中的pi，pi即为Python中的常量。"
   ]
  },
  {
   "cell_type": "code",
   "execution_count": null,
   "id": "32d36762",
   "metadata": {},
   "outputs": [],
   "source": [
    "import math\n",
    "l = 50\n",
    "pi = math.pi\n",
    "m = ???\n",
    "print('下水道井盖的面积为：',m,'平方厘米')"
   ]
  },
  {
   "cell_type": "code",
   "execution_count": 2,
   "id": "a948ffd5",
   "metadata": {},
   "outputs": [
    {
     "name": "stdout",
     "output_type": "stream",
     "text": [
      "下水道井盖的面积为： 1963.4954084936207 平方厘米\n"
     ]
    }
   ],
   "source": [
    "import math\n",
    "l = 50\n",
    "pi = math.pi\n",
    "m = (l/2)**2*pi\n",
    "print('下水道井盖的面积为：',m,'平方厘米')"
   ]
  }
 ],
 "metadata": {
  "kernelspec": {
   "display_name": "Python 3 (ipykernel)",
   "language": "python",
   "name": "python3"
  },
  "language_info": {
   "codemirror_mode": {
    "name": "ipython",
    "version": 3
   },
   "file_extension": ".py",
   "mimetype": "text/x-python",
   "name": "python",
   "nbconvert_exporter": "python",
   "pygments_lexer": "ipython3",
   "version": "3.8.5"
  }
 },
 "nbformat": 4,
 "nbformat_minor": 5
}
