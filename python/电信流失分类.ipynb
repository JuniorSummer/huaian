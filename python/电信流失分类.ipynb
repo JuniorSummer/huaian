{
 "cells": [
  {
   "cell_type": "markdown",
   "metadata": {},
   "source": [
    "#### 背景说明\n",
    "\n",
    "对于企业来说，获得新客户的成本是非常高的，那么用户的留存分析就成了关键。每个客户的信息都是不一样的，很难找到其中的规律，但在客户数量足够多的情况下，可以使用数据挖掘算法进行分类预测，建立流失判别模型，对可能流失的用户进行重点关注。\n",
    "\n",
    "#### 数据说明\n",
    "\n",
    "数据为7043个电信用户的信息（数据已脱敏）,每行代表一个客户，每列包含了对应的客户属性，共21列。<br>\n",
    "\n",
    "数据示例:<br>\n",
    "\n",
    "|客户ID|性别|客户是否为老年人|客户是否有配偶|客户是否有家属|...|是否为电子计费|支付方式|每月消费|总消费|是否为流失|\n",
    "|---|---|---|---|---|---|---|---|---|---|---|\n",
    "|ID00001|女|0|是|1|...|是|支付宝|29.85|29.85|否|\n",
    "|ID00002|男|0|否|34|...|否|微信|56.95|1889.50|否|\n",
    "|ID00003|男|0|否|2|...|是|微信|53.85|108.15|是|\n",
    "|ID00004|男|0|否|45|...|否|营业厅|42.30|1840.75|否|\n",
    "|ID00005|女|0|否|2|...|是|支付宝|70.70|151.65|是|\n",
    "|...|...|...|...|...|...|...|...|...|...|\n",
    "\n",
    "客户是否为老年人：0表示不是，1表示是；<br>\n",
    "客户留存时间：客户在公司停留的月数；\n",
    "\n",
    "#### 分析思路\n",
    "1.数据可视化。查看数据分布、统计特征，对部分特征进行可视化展示。<br>\n",
    "2.分类模型搭建。使用随机森林模型进行流失分类，计算得分，预测测试集标签。<br>\n",
    "3.特征重要性展示。查看特征重要性，进行特征重要性筛选，并绘图展示。"
   ]
  },
  {
   "cell_type": "code",
   "execution_count": 1,
   "metadata": {},
   "outputs": [],
   "source": [
    "import numpy as np \n",
    "import pandas as pd\n",
    "pd.set_option('display.max_columns', None) #显示所有列\n",
    "\n",
    "import matplotlib.pyplot as plt\n",
    "plt.rcParams['font.sans-serif']=['SimHei'] #显示中文\n",
    "%matplotlib inline\n",
    "\n",
    "import seaborn as sns \n",
    "\n",
    "import warnings\n",
    "warnings.filterwarnings(\"ignore\") #忽略警告"
   ]
  },
  {
   "cell_type": "markdown",
   "metadata": {},
   "source": [
    "## 数据预处理"
   ]
  },
  {
   "cell_type": "code",
   "execution_count": 2,
   "metadata": {
    "scrolled": true
   },
   "outputs": [
    {
     "data": {
      "text/html": [
       "<div>\n",
       "<style scoped>\n",
       "    .dataframe tbody tr th:only-of-type {\n",
       "        vertical-align: middle;\n",
       "    }\n",
       "\n",
       "    .dataframe tbody tr th {\n",
       "        vertical-align: top;\n",
       "    }\n",
       "\n",
       "    .dataframe thead th {\n",
       "        text-align: right;\n",
       "    }\n",
       "</style>\n",
       "<table border=\"1\" class=\"dataframe\">\n",
       "  <thead>\n",
       "    <tr style=\"text-align: right;\">\n",
       "      <th></th>\n",
       "      <th>客户ID</th>\n",
       "      <th>性别</th>\n",
       "      <th>客户是否为老年人</th>\n",
       "      <th>客户是否有配偶</th>\n",
       "      <th>客户是否有家属</th>\n",
       "      <th>客户留存时间</th>\n",
       "      <th>客户是否有电话服务</th>\n",
       "      <th>客户是否多线路</th>\n",
       "      <th>客户的互联网服务提供商</th>\n",
       "      <th>客户是否具有在线安全性</th>\n",
       "      <th>客户是否联机备份</th>\n",
       "      <th>客户是否有设备保护</th>\n",
       "      <th>客户是否有技术支持</th>\n",
       "      <th>客户是否有电视服务</th>\n",
       "      <th>客户是否有电影服务</th>\n",
       "      <th>结算方式</th>\n",
       "      <th>是否为电子计费</th>\n",
       "      <th>支付方式</th>\n",
       "      <th>每月消费</th>\n",
       "      <th>总消费</th>\n",
       "      <th>是否为流失</th>\n",
       "    </tr>\n",
       "  </thead>\n",
       "  <tbody>\n",
       "    <tr>\n",
       "      <th>0</th>\n",
       "      <td>ID00001</td>\n",
       "      <td>女</td>\n",
       "      <td>0</td>\n",
       "      <td>是</td>\n",
       "      <td>否</td>\n",
       "      <td>1</td>\n",
       "      <td>否</td>\n",
       "      <td>无电话服务</td>\n",
       "      <td>DSL</td>\n",
       "      <td>否</td>\n",
       "      <td>是</td>\n",
       "      <td>否</td>\n",
       "      <td>否</td>\n",
       "      <td>否</td>\n",
       "      <td>否</td>\n",
       "      <td>月结</td>\n",
       "      <td>是</td>\n",
       "      <td>支付宝</td>\n",
       "      <td>29.85</td>\n",
       "      <td>29.85</td>\n",
       "      <td>否</td>\n",
       "    </tr>\n",
       "    <tr>\n",
       "      <th>1</th>\n",
       "      <td>ID00002</td>\n",
       "      <td>男</td>\n",
       "      <td>0</td>\n",
       "      <td>否</td>\n",
       "      <td>否</td>\n",
       "      <td>34</td>\n",
       "      <td>是</td>\n",
       "      <td>否</td>\n",
       "      <td>DSL</td>\n",
       "      <td>是</td>\n",
       "      <td>否</td>\n",
       "      <td>是</td>\n",
       "      <td>否</td>\n",
       "      <td>否</td>\n",
       "      <td>否</td>\n",
       "      <td>年结</td>\n",
       "      <td>否</td>\n",
       "      <td>微信</td>\n",
       "      <td>56.95</td>\n",
       "      <td>1889.50</td>\n",
       "      <td>否</td>\n",
       "    </tr>\n",
       "    <tr>\n",
       "      <th>2</th>\n",
       "      <td>ID00003</td>\n",
       "      <td>男</td>\n",
       "      <td>0</td>\n",
       "      <td>否</td>\n",
       "      <td>否</td>\n",
       "      <td>2</td>\n",
       "      <td>是</td>\n",
       "      <td>否</td>\n",
       "      <td>DSL</td>\n",
       "      <td>是</td>\n",
       "      <td>是</td>\n",
       "      <td>否</td>\n",
       "      <td>否</td>\n",
       "      <td>否</td>\n",
       "      <td>否</td>\n",
       "      <td>月结</td>\n",
       "      <td>是</td>\n",
       "      <td>微信</td>\n",
       "      <td>53.85</td>\n",
       "      <td>108.15</td>\n",
       "      <td>是</td>\n",
       "    </tr>\n",
       "    <tr>\n",
       "      <th>3</th>\n",
       "      <td>ID00004</td>\n",
       "      <td>男</td>\n",
       "      <td>0</td>\n",
       "      <td>否</td>\n",
       "      <td>否</td>\n",
       "      <td>45</td>\n",
       "      <td>否</td>\n",
       "      <td>无电话服务</td>\n",
       "      <td>DSL</td>\n",
       "      <td>是</td>\n",
       "      <td>否</td>\n",
       "      <td>是</td>\n",
       "      <td>是</td>\n",
       "      <td>否</td>\n",
       "      <td>否</td>\n",
       "      <td>年结</td>\n",
       "      <td>否</td>\n",
       "      <td>营业厅</td>\n",
       "      <td>42.30</td>\n",
       "      <td>1840.75</td>\n",
       "      <td>否</td>\n",
       "    </tr>\n",
       "    <tr>\n",
       "      <th>4</th>\n",
       "      <td>ID00005</td>\n",
       "      <td>女</td>\n",
       "      <td>0</td>\n",
       "      <td>否</td>\n",
       "      <td>否</td>\n",
       "      <td>2</td>\n",
       "      <td>是</td>\n",
       "      <td>否</td>\n",
       "      <td>光纤</td>\n",
       "      <td>否</td>\n",
       "      <td>否</td>\n",
       "      <td>否</td>\n",
       "      <td>否</td>\n",
       "      <td>否</td>\n",
       "      <td>否</td>\n",
       "      <td>月结</td>\n",
       "      <td>是</td>\n",
       "      <td>支付宝</td>\n",
       "      <td>70.70</td>\n",
       "      <td>151.65</td>\n",
       "      <td>是</td>\n",
       "    </tr>\n",
       "  </tbody>\n",
       "</table>\n",
       "</div>"
      ],
      "text/plain": [
       "      客户ID 性别  客户是否为老年人 客户是否有配偶 客户是否有家属  客户留存时间 客户是否有电话服务 客户是否多线路 客户的互联网服务提供商  \\\n",
       "0  ID00001  女         0       是       否       1         否   无电话服务         DSL   \n",
       "1  ID00002  男         0       否       否      34         是       否         DSL   \n",
       "2  ID00003  男         0       否       否       2         是       否         DSL   \n",
       "3  ID00004  男         0       否       否      45         否   无电话服务         DSL   \n",
       "4  ID00005  女         0       否       否       2         是       否          光纤   \n",
       "\n",
       "  客户是否具有在线安全性 客户是否联机备份 客户是否有设备保护 客户是否有技术支持 客户是否有电视服务 客户是否有电影服务 结算方式 是否为电子计费  \\\n",
       "0           否        是         否         否         否         否   月结       是   \n",
       "1           是        否         是         否         否         否   年结       否   \n",
       "2           是        是         否         否         否         否   月结       是   \n",
       "3           是        否         是         是         否         否   年结       否   \n",
       "4           否        否         否         否         否         否   月结       是   \n",
       "\n",
       "  支付方式   每月消费      总消费 是否为流失  \n",
       "0  支付宝  29.85    29.85     否  \n",
       "1   微信  56.95  1889.50     否  \n",
       "2   微信  53.85   108.15     是  \n",
       "3  营业厅  42.30  1840.75     否  \n",
       "4  支付宝  70.70   151.65     是  "
      ]
     },
     "execution_count": 2,
     "metadata": {},
     "output_type": "execute_result"
    }
   ],
   "source": [
    "#数据读取\n",
    "\n",
    "data = pd.read_csv('./电信用户流失数据.csv', encoding='utf-8') #读取csv数据，设置编码方式为utf-8\n",
    "data.head(5) #查看前五行数据"
   ]
  },
  {
   "cell_type": "code",
   "execution_count": 3,
   "metadata": {
    "scrolled": true
   },
   "outputs": [
    {
     "data": {
      "text/plain": [
       "客户ID            0\n",
       "性别              0\n",
       "客户是否为老年人        0\n",
       "客户是否有配偶         0\n",
       "客户是否有家属         0\n",
       "客户留存时间          0\n",
       "客户是否有电话服务       0\n",
       "客户是否多线路         0\n",
       "客户的互联网服务提供商     0\n",
       "客户是否具有在线安全性     0\n",
       "客户是否联机备份        0\n",
       "客户是否有设备保护       0\n",
       "客户是否有技术支持       0\n",
       "客户是否有电视服务       0\n",
       "客户是否有电影服务       0\n",
       "结算方式            0\n",
       "是否为电子计费         0\n",
       "支付方式            0\n",
       "每月消费            0\n",
       "总消费            11\n",
       "是否为流失           0\n",
       "dtype: int64"
      ]
     },
     "execution_count": 3,
     "metadata": {},
     "output_type": "execute_result"
    }
   ],
   "source": [
    "#检验缺失值\n",
    "\n",
    "data.isnull().sum() #统计每个特征的缺失值个数"
   ]
  },
  {
   "cell_type": "code",
   "execution_count": 4,
   "metadata": {
    "scrolled": true
   },
   "outputs": [
    {
     "data": {
      "text/plain": [
       "客户ID           0\n",
       "性别             0\n",
       "客户是否为老年人       0\n",
       "客户是否有配偶        0\n",
       "客户是否有家属        0\n",
       "客户留存时间         0\n",
       "客户是否有电话服务      0\n",
       "客户是否多线路        0\n",
       "客户的互联网服务提供商    0\n",
       "客户是否具有在线安全性    0\n",
       "客户是否联机备份       0\n",
       "客户是否有设备保护      0\n",
       "客户是否有技术支持      0\n",
       "客户是否有电视服务      0\n",
       "客户是否有电影服务      0\n",
       "结算方式           0\n",
       "是否为电子计费        0\n",
       "支付方式           0\n",
       "每月消费           0\n",
       "总消费            0\n",
       "是否为流失          0\n",
       "dtype: int64"
      ]
     },
     "execution_count": 4,
     "metadata": {},
     "output_type": "execute_result"
    }
   ],
   "source": [
    "#清除缺失值\n",
    "\n",
    "data = data.dropna() #删除缺失值所在行\n",
    "data.isna().sum() #统计每个特征的缺失值个数"
   ]
  },
  {
   "cell_type": "markdown",
   "metadata": {},
   "source": [
    "缺失值处理完成"
   ]
  },
  {
   "cell_type": "code",
   "execution_count": 5,
   "metadata": {
    "scrolled": true
   },
   "outputs": [
    {
     "name": "stdout",
     "output_type": "stream",
     "text": [
      "<class 'pandas.core.frame.DataFrame'>\n",
      "Int64Index: 7032 entries, 0 to 7042\n",
      "Data columns (total 21 columns):\n",
      " #   Column       Non-Null Count  Dtype  \n",
      "---  ------       --------------  -----  \n",
      " 0   客户ID         7032 non-null   object \n",
      " 1   性别           7032 non-null   object \n",
      " 2   客户是否为老年人     7032 non-null   int64  \n",
      " 3   客户是否有配偶      7032 non-null   object \n",
      " 4   客户是否有家属      7032 non-null   object \n",
      " 5   客户留存时间       7032 non-null   int64  \n",
      " 6   客户是否有电话服务    7032 non-null   object \n",
      " 7   客户是否多线路      7032 non-null   object \n",
      " 8   客户的互联网服务提供商  7032 non-null   object \n",
      " 9   客户是否具有在线安全性  7032 non-null   object \n",
      " 10  客户是否联机备份     7032 non-null   object \n",
      " 11  客户是否有设备保护    7032 non-null   object \n",
      " 12  客户是否有技术支持    7032 non-null   object \n",
      " 13  客户是否有电视服务    7032 non-null   object \n",
      " 14  客户是否有电影服务    7032 non-null   object \n",
      " 15  结算方式         7032 non-null   object \n",
      " 16  是否为电子计费      7032 non-null   object \n",
      " 17  支付方式         7032 non-null   object \n",
      " 18  每月消费         7032 non-null   float64\n",
      " 19  总消费          7032 non-null   float64\n",
      " 20  是否为流失        7032 non-null   object \n",
      "dtypes: float64(2), int64(2), object(17)\n",
      "memory usage: 1.2+ MB\n"
     ]
    }
   ],
   "source": [
    "#查看数据信息\n",
    "\n",
    "data.info() #查看数据信息"
   ]
  },
  {
   "cell_type": "markdown",
   "metadata": {},
   "source": [
    "“客户是否为老年人”应该是分类特征"
   ]
  },
  {
   "cell_type": "code",
   "execution_count": 6,
   "metadata": {},
   "outputs": [
    {
     "name": "stdout",
     "output_type": "stream",
     "text": [
      "<class 'pandas.core.frame.DataFrame'>\n",
      "Int64Index: 7032 entries, 0 to 7042\n",
      "Data columns (total 21 columns):\n",
      " #   Column       Non-Null Count  Dtype  \n",
      "---  ------       --------------  -----  \n",
      " 0   客户ID         7032 non-null   object \n",
      " 1   性别           7032 non-null   object \n",
      " 2   客户是否为老年人     7032 non-null   object \n",
      " 3   客户是否有配偶      7032 non-null   object \n",
      " 4   客户是否有家属      7032 non-null   object \n",
      " 5   客户留存时间       7032 non-null   int64  \n",
      " 6   客户是否有电话服务    7032 non-null   object \n",
      " 7   客户是否多线路      7032 non-null   object \n",
      " 8   客户的互联网服务提供商  7032 non-null   object \n",
      " 9   客户是否具有在线安全性  7032 non-null   object \n",
      " 10  客户是否联机备份     7032 non-null   object \n",
      " 11  客户是否有设备保护    7032 non-null   object \n",
      " 12  客户是否有技术支持    7032 non-null   object \n",
      " 13  客户是否有电视服务    7032 non-null   object \n",
      " 14  客户是否有电影服务    7032 non-null   object \n",
      " 15  结算方式         7032 non-null   object \n",
      " 16  是否为电子计费      7032 non-null   object \n",
      " 17  支付方式         7032 non-null   object \n",
      " 18  每月消费         7032 non-null   float64\n",
      " 19  总消费          7032 non-null   float64\n",
      " 20  是否为流失        7032 non-null   object \n",
      "dtypes: float64(2), int64(1), object(18)\n",
      "memory usage: 1.2+ MB\n"
     ]
    }
   ],
   "source": [
    "#特征类型转换\n",
    "\n",
    "data['客户是否为老年人'] = data['客户是否为老年人'].astype('str') #转为字符型\n",
    "data.info() #查看数据信息"
   ]
  },
  {
   "cell_type": "code",
   "execution_count": 7,
   "metadata": {},
   "outputs": [
    {
     "data": {
      "text/html": [
       "<div>\n",
       "<style scoped>\n",
       "    .dataframe tbody tr th:only-of-type {\n",
       "        vertical-align: middle;\n",
       "    }\n",
       "\n",
       "    .dataframe tbody tr th {\n",
       "        vertical-align: top;\n",
       "    }\n",
       "\n",
       "    .dataframe thead th {\n",
       "        text-align: right;\n",
       "    }\n",
       "</style>\n",
       "<table border=\"1\" class=\"dataframe\">\n",
       "  <thead>\n",
       "    <tr style=\"text-align: right;\">\n",
       "      <th></th>\n",
       "      <th>客户留存时间</th>\n",
       "      <th>每月消费</th>\n",
       "      <th>总消费</th>\n",
       "    </tr>\n",
       "  </thead>\n",
       "  <tbody>\n",
       "    <tr>\n",
       "      <th>count</th>\n",
       "      <td>7032.000000</td>\n",
       "      <td>7032.000000</td>\n",
       "      <td>7032.000000</td>\n",
       "    </tr>\n",
       "    <tr>\n",
       "      <th>mean</th>\n",
       "      <td>32.421786</td>\n",
       "      <td>64.798208</td>\n",
       "      <td>2283.300441</td>\n",
       "    </tr>\n",
       "    <tr>\n",
       "      <th>std</th>\n",
       "      <td>24.545260</td>\n",
       "      <td>30.085974</td>\n",
       "      <td>2266.771362</td>\n",
       "    </tr>\n",
       "    <tr>\n",
       "      <th>min</th>\n",
       "      <td>1.000000</td>\n",
       "      <td>18.250000</td>\n",
       "      <td>18.800000</td>\n",
       "    </tr>\n",
       "    <tr>\n",
       "      <th>25%</th>\n",
       "      <td>9.000000</td>\n",
       "      <td>35.587500</td>\n",
       "      <td>401.450000</td>\n",
       "    </tr>\n",
       "    <tr>\n",
       "      <th>50%</th>\n",
       "      <td>29.000000</td>\n",
       "      <td>70.350000</td>\n",
       "      <td>1397.475000</td>\n",
       "    </tr>\n",
       "    <tr>\n",
       "      <th>75%</th>\n",
       "      <td>55.000000</td>\n",
       "      <td>89.862500</td>\n",
       "      <td>3794.737500</td>\n",
       "    </tr>\n",
       "    <tr>\n",
       "      <th>max</th>\n",
       "      <td>72.000000</td>\n",
       "      <td>118.750000</td>\n",
       "      <td>8684.800000</td>\n",
       "    </tr>\n",
       "  </tbody>\n",
       "</table>\n",
       "</div>"
      ],
      "text/plain": [
       "            客户留存时间         每月消费          总消费\n",
       "count  7032.000000  7032.000000  7032.000000\n",
       "mean     32.421786    64.798208  2283.300441\n",
       "std      24.545260    30.085974  2266.771362\n",
       "min       1.000000    18.250000    18.800000\n",
       "25%       9.000000    35.587500   401.450000\n",
       "50%      29.000000    70.350000  1397.475000\n",
       "75%      55.000000    89.862500  3794.737500\n",
       "max      72.000000   118.750000  8684.800000"
      ]
     },
     "execution_count": 7,
     "metadata": {},
     "output_type": "execute_result"
    }
   ],
   "source": [
    "#查看数据统计量信息\n",
    "\n",
    "data.describe() #查看数据统计量"
   ]
  },
  {
   "cell_type": "markdown",
   "metadata": {},
   "source": [
    "客户留存时间、每月消费、总消费三列是数值型。"
   ]
  },
  {
   "cell_type": "code",
   "execution_count": 8,
   "metadata": {},
   "outputs": [
    {
     "name": "stdout",
     "output_type": "stream",
     "text": [
      "列名：\n",
      " ['客户ID' '性别' '客户是否为老年人' '客户是否有配偶' '客户是否有家属' '客户留存时间' '客户是否有电话服务' '客户是否多线路'\n",
      " '客户的互联网服务提供商' '客户是否具有在线安全性' '客户是否联机备份' '客户是否有设备保护' '客户是否有技术支持'\n",
      " '客户是否有电视服务' '客户是否有电影服务' '结算方式' '是否为电子计费' '支付方式' '每月消费' '总消费' '是否为流失']\n",
      "                    \n",
      "特征个数： 20\n"
     ]
    }
   ],
   "source": [
    "#查看特征名和特征个数\n",
    "\n",
    "print('列名：\\n', data.columns.values) #列名\n",
    "print(' '*20)\n",
    "print('特征个数：', len(data.columns)-1) #特征个数"
   ]
  },
  {
   "cell_type": "code",
   "execution_count": 9,
   "metadata": {},
   "outputs": [
    {
     "data": {
      "image/png": "[encoded data removed]",
      "text/plain": [
       "<Figure size 640x480 with 1 Axes>"
      ]
     },
     "metadata": {},
     "output_type": "display_data"
    }
   ],
   "source": [
    "#绘制直方图查看流失\n",
    "\n",
    "fig = plt.figure() #画布\n",
    "\n",
    "loss = data.groupby('是否为流失')['客户ID'].count() #对流失进行分组聚合，计算流失与未流失人数\n",
    "label = ['否','是'] #标签\n",
    "plt.bar(label,loss,width=0.5) #绘制柱状图，宽度为0.5\n",
    "plt.title('流失比例') #标题\n",
    "plt.show()"
   ]
  },
  {
   "cell_type": "code",
   "execution_count": 10,
   "metadata": {},
   "outputs": [
    {
     "data": {
      "text/plain": [
       "否    0.734215\n",
       "是    0.265785\n",
       "Name: 是否为流失, dtype: float64"
      ]
     },
     "execution_count": 10,
     "metadata": {},
     "output_type": "execute_result"
    }
   ],
   "source": [
    "#计算流失比例\n",
    "\n",
    "data['是否为流失'].value_counts(normalize=True) #统计流失与未流失个数，显示为频率"
   ]
  },
  {
   "cell_type": "markdown",
   "metadata": {},
   "source": [
    "准确率必须超过73.4%，否则模型没有意义"
   ]
  },
  {
   "cell_type": "markdown",
   "metadata": {},
   "source": [
    "## 数值型特征"
   ]
  },
  {
   "cell_type": "code",
   "execution_count": 11,
   "metadata": {},
   "outputs": [],
   "source": [
    "#数值型特征的客户对比\n",
    "\n",
    "data_churn = data[data['是否为流失']=='是'] #流失\n",
    "data_retention = data[data['是否为流失']=='否'] #未流失"
   ]
  },
  {
   "cell_type": "code",
   "execution_count": 12,
   "metadata": {},
   "outputs": [
    {
     "data": {
      "image/png": "[encoded data removed]",
      "text/plain": [
       "<Figure size 1000x1000 with 3 Axes>"
      ]
     },
     "metadata": {},
     "output_type": "display_data"
    }
   ],
   "source": [
    "#三个数值特征可视化\n",
    "\n",
    "fig = plt.figure(figsize=(10,10)) #设置图像大小\n",
    "\n",
    "#客户留存时间对比\n",
    "ax1 = fig.add_subplot(3,1,1) #子图1\n",
    "sns.distplot(data_churn['客户留存时间'],bins=10,hist=True,kde=False,color='b') #流失客户直方图，箱数设为10，不绘制核密度图，颜色为蓝色\n",
    "sns.distplot(data_retention['客户留存时间'],bins=10,hist=True,kde=False,color='g') #未流失客户直方图，箱数设为10，不绘制核密度图，颜色为绿色\n",
    "\n",
    "#客户每月消费对比\n",
    "ax2 = fig.add_subplot(3,1,2)#子图2\n",
    "sns.distplot(data_churn['每月消费'],bins=10,hist=True,kde=False,color='b') #流失客户直方图，箱数设为10，不绘制核密度图，颜色为蓝色\n",
    "sns.distplot(data_retention['每月消费'],bins=10,hist=True,kde=False,color='g') #未流失客户直方图，箱数设为10，不绘制核密度图，颜色为绿色\n",
    "\n",
    "#客户总消费对比\n",
    "ax3 = fig.add_subplot(3,1,3)#子图3\n",
    "sns.distplot(data_churn['总消费'],bins=10,hist=True,kde=False,color='b') #流失客户直方图，箱数设为10，不绘制核密度图，颜色为蓝色\n",
    "sns.distplot(data_retention['总消费'],bins=10,hist=True,kde=False,color='g') #未流失客户直方图，箱数设为10，不绘制核密度图，颜色为绿色\n",
    "\n",
    "plt.subplots_adjust(wspace=0.1) #子图水平距离\n",
    "plt.show()"
   ]
  },
  {
   "cell_type": "markdown",
   "metadata": {},
   "source": [
    "客户留存时间越长，越不容易流失；每月消费20到30月的客户很多，客户是否流失与消费金额关系不大。"
   ]
  },
  {
   "cell_type": "markdown",
   "metadata": {},
   "source": [
    "## 分类特征"
   ]
  },
  {
   "cell_type": "code",
   "execution_count": 13,
   "metadata": {
    "scrolled": true
   },
   "outputs": [
    {
     "data": {
      "image/png": "[encoded data removed]",
      "text/plain": [
       "<Figure size 1200x1200 with 6 Axes>"
      ]
     },
     "metadata": {},
     "output_type": "display_data"
    }
   ],
   "source": [
    "#分类特征很多，只选取其中6个特征作查看\n",
    "\n",
    "fig,axes = plt.subplots(2,3,figsize=(12,12)) #设置图像大小、子图排列方式，两行三列\n",
    "axe=axes.ravel() #axes中解压所有子图数组\n",
    " \n",
    "#流失与性别的关系\n",
    "data0 = data.groupby(['性别','是否为流失'])['是否为流失'].count().unstack() #对性别和流失进行分组统计，计算性别，行转列\n",
    "data0.plot(kind='bar',ax = axe[0],stacked='True') #绘制柱状图，位置是第一个子图，进行堆叠\n",
    "\n",
    "#流失与老年人的关系  \n",
    "data1 = data.groupby(['客户是否为老年人','是否为流失'])['是否为流失'].count().unstack()  #对性别和客户是否为老年人进行分组统计，计算性别，行转列\n",
    "data1.plot(kind='bar',ax = axe[1],stacked='True') #绘制柱状图，位置是第二个子图，进行堆叠\n",
    "\n",
    "#流失与是否有配偶的关系\n",
    "data2 = data.groupby(['客户是否有配偶','是否为流失'])['是否为流失'].count().unstack()  #对性别和客户是否有配偶进行分组统计，计算性别，行转列\n",
    "data2.plot(kind='bar',ax = axe[2],stacked='True') #绘制柱状图，位置是第三个子图，进行堆叠\n",
    "\n",
    "#流失与是否有设备保护的关系\n",
    "data3 = data.groupby(['客户是否有设备保护','是否为流失'])['是否为流失'].count().unstack() #对性别和客户是否有设备保护进行分组统计，计算性别，行转列\n",
    "data3.plot(kind='bar',ax = axe[3],stacked='True') #绘制柱状图，位置是第四个子图，进行堆叠\n",
    "\n",
    "#流失与结算方式的关系\n",
    "data4 = data.groupby(['结算方式','是否为流失'])['是否为流失'].count().unstack() #对性别和结算方式进行分组统计，计算性别，行转列\n",
    "data4.plot(kind='bar',ax = axe[4],stacked='True') #绘制柱状图，位置是第五个子图，进行堆叠\n",
    "\n",
    "#流失与客户的互联网服务提供商的关系\n",
    "data5 = data.groupby(['客户的互联网服务提供商','是否为流失'])['是否为流失'].count().unstack() #对性别和客户的互联网服务提供商进行分组统计，计算性别，行转列\n",
    "data5.plot(kind='bar',ax = axe[5],stacked='True') #绘制柱状图，位置是第六个子图，进行堆叠\n",
    "\n",
    "\n",
    "plt.subplots_adjust(hspace=0.6) #子图竖直距离\n",
    "plt.show()"
   ]
  },
  {
   "cell_type": "markdown",
   "metadata": {},
   "source": [
    "性别与流失的关系不大；老年人更容易流失；没有配偶更容易流失；月结客户更容易流失；使用光纤的客户更容易流失"
   ]
  },
  {
   "cell_type": "markdown",
   "metadata": {},
   "source": [
    "## 拆分特征和标签"
   ]
  },
  {
   "cell_type": "code",
   "execution_count": 14,
   "metadata": {
    "scrolled": true
   },
   "outputs": [
    {
     "data": {
      "text/html": [
       "<div>\n",
       "<style scoped>\n",
       "    .dataframe tbody tr th:only-of-type {\n",
       "        vertical-align: middle;\n",
       "    }\n",
       "\n",
       "    .dataframe tbody tr th {\n",
       "        vertical-align: top;\n",
       "    }\n",
       "\n",
       "    .dataframe thead th {\n",
       "        text-align: right;\n",
       "    }\n",
       "</style>\n",
       "<table border=\"1\" class=\"dataframe\">\n",
       "  <thead>\n",
       "    <tr style=\"text-align: right;\">\n",
       "      <th></th>\n",
       "      <th>性别</th>\n",
       "      <th>客户是否为老年人</th>\n",
       "      <th>客户是否有配偶</th>\n",
       "      <th>客户是否有家属</th>\n",
       "      <th>客户留存时间</th>\n",
       "      <th>客户是否有电话服务</th>\n",
       "      <th>客户是否多线路</th>\n",
       "      <th>客户的互联网服务提供商</th>\n",
       "      <th>客户是否具有在线安全性</th>\n",
       "      <th>客户是否联机备份</th>\n",
       "      <th>客户是否有设备保护</th>\n",
       "      <th>客户是否有技术支持</th>\n",
       "      <th>客户是否有电视服务</th>\n",
       "      <th>客户是否有电影服务</th>\n",
       "      <th>结算方式</th>\n",
       "      <th>是否为电子计费</th>\n",
       "      <th>支付方式</th>\n",
       "      <th>每月消费</th>\n",
       "      <th>总消费</th>\n",
       "    </tr>\n",
       "  </thead>\n",
       "  <tbody>\n",
       "    <tr>\n",
       "      <th>0</th>\n",
       "      <td>女</td>\n",
       "      <td>0</td>\n",
       "      <td>是</td>\n",
       "      <td>否</td>\n",
       "      <td>1</td>\n",
       "      <td>否</td>\n",
       "      <td>无电话服务</td>\n",
       "      <td>DSL</td>\n",
       "      <td>否</td>\n",
       "      <td>是</td>\n",
       "      <td>否</td>\n",
       "      <td>否</td>\n",
       "      <td>否</td>\n",
       "      <td>否</td>\n",
       "      <td>月结</td>\n",
       "      <td>是</td>\n",
       "      <td>支付宝</td>\n",
       "      <td>29.85</td>\n",
       "      <td>29.85</td>\n",
       "    </tr>\n",
       "    <tr>\n",
       "      <th>1</th>\n",
       "      <td>男</td>\n",
       "      <td>0</td>\n",
       "      <td>否</td>\n",
       "      <td>否</td>\n",
       "      <td>34</td>\n",
       "      <td>是</td>\n",
       "      <td>否</td>\n",
       "      <td>DSL</td>\n",
       "      <td>是</td>\n",
       "      <td>否</td>\n",
       "      <td>是</td>\n",
       "      <td>否</td>\n",
       "      <td>否</td>\n",
       "      <td>否</td>\n",
       "      <td>年结</td>\n",
       "      <td>否</td>\n",
       "      <td>微信</td>\n",
       "      <td>56.95</td>\n",
       "      <td>1889.50</td>\n",
       "    </tr>\n",
       "    <tr>\n",
       "      <th>2</th>\n",
       "      <td>男</td>\n",
       "      <td>0</td>\n",
       "      <td>否</td>\n",
       "      <td>否</td>\n",
       "      <td>2</td>\n",
       "      <td>是</td>\n",
       "      <td>否</td>\n",
       "      <td>DSL</td>\n",
       "      <td>是</td>\n",
       "      <td>是</td>\n",
       "      <td>否</td>\n",
       "      <td>否</td>\n",
       "      <td>否</td>\n",
       "      <td>否</td>\n",
       "      <td>月结</td>\n",
       "      <td>是</td>\n",
       "      <td>微信</td>\n",
       "      <td>53.85</td>\n",
       "      <td>108.15</td>\n",
       "    </tr>\n",
       "    <tr>\n",
       "      <th>3</th>\n",
       "      <td>男</td>\n",
       "      <td>0</td>\n",
       "      <td>否</td>\n",
       "      <td>否</td>\n",
       "      <td>45</td>\n",
       "      <td>否</td>\n",
       "      <td>无电话服务</td>\n",
       "      <td>DSL</td>\n",
       "      <td>是</td>\n",
       "      <td>否</td>\n",
       "      <td>是</td>\n",
       "      <td>是</td>\n",
       "      <td>否</td>\n",
       "      <td>否</td>\n",
       "      <td>年结</td>\n",
       "      <td>否</td>\n",
       "      <td>营业厅</td>\n",
       "      <td>42.30</td>\n",
       "      <td>1840.75</td>\n",
       "    </tr>\n",
       "    <tr>\n",
       "      <th>4</th>\n",
       "      <td>女</td>\n",
       "      <td>0</td>\n",
       "      <td>否</td>\n",
       "      <td>否</td>\n",
       "      <td>2</td>\n",
       "      <td>是</td>\n",
       "      <td>否</td>\n",
       "      <td>光纤</td>\n",
       "      <td>否</td>\n",
       "      <td>否</td>\n",
       "      <td>否</td>\n",
       "      <td>否</td>\n",
       "      <td>否</td>\n",
       "      <td>否</td>\n",
       "      <td>月结</td>\n",
       "      <td>是</td>\n",
       "      <td>支付宝</td>\n",
       "      <td>70.70</td>\n",
       "      <td>151.65</td>\n",
       "    </tr>\n",
       "  </tbody>\n",
       "</table>\n",
       "</div>"
      ],
      "text/plain": [
       "  性别 客户是否为老年人 客户是否有配偶 客户是否有家属  客户留存时间 客户是否有电话服务 客户是否多线路 客户的互联网服务提供商  \\\n",
       "0  女        0       是       否       1         否   无电话服务         DSL   \n",
       "1  男        0       否       否      34         是       否         DSL   \n",
       "2  男        0       否       否       2         是       否         DSL   \n",
       "3  男        0       否       否      45         否   无电话服务         DSL   \n",
       "4  女        0       否       否       2         是       否          光纤   \n",
       "\n",
       "  客户是否具有在线安全性 客户是否联机备份 客户是否有设备保护 客户是否有技术支持 客户是否有电视服务 客户是否有电影服务 结算方式 是否为电子计费  \\\n",
       "0           否        是         否         否         否         否   月结       是   \n",
       "1           是        否         是         否         否         否   年结       否   \n",
       "2           是        是         否         否         否         否   月结       是   \n",
       "3           是        否         是         是         否         否   年结       否   \n",
       "4           否        否         否         否         否         否   月结       是   \n",
       "\n",
       "  支付方式   每月消费      总消费  \n",
       "0  支付宝  29.85    29.85  \n",
       "1   微信  56.95  1889.50  \n",
       "2   微信  53.85   108.15  \n",
       "3  营业厅  42.30  1840.75  \n",
       "4  支付宝  70.70   151.65  "
      ]
     },
     "execution_count": 14,
     "metadata": {},
     "output_type": "execute_result"
    }
   ],
   "source": [
    "#特征\n",
    "#特征是第二列至倒数第二列\n",
    "\n",
    "x = data.iloc[:,1:-1] #特征。按行列索引，取所有行、第二列至倒数第二列\n",
    "x[:5]"
   ]
  },
  {
   "cell_type": "code",
   "execution_count": 15,
   "metadata": {},
   "outputs": [
    {
     "data": {
      "text/plain": [
       "0    否\n",
       "1    否\n",
       "2    是\n",
       "3    否\n",
       "4    是\n",
       "Name: 是否为流失, dtype: object"
      ]
     },
     "execution_count": 15,
     "metadata": {},
     "output_type": "execute_result"
    }
   ],
   "source": [
    "#标签\n",
    "#最后一列为标签\n",
    "\n",
    "y = data['是否为流失'] #标签。取最后一列，标签列\n",
    "y[:5]"
   ]
  },
  {
   "cell_type": "markdown",
   "metadata": {},
   "source": [
    "## 分割数据集"
   ]
  },
  {
   "cell_type": "code",
   "execution_count": 16,
   "metadata": {},
   "outputs": [],
   "source": [
    "#分割数据集\n",
    "\n",
    "\n",
    "from sklearn.model_selection import train_test_split\n",
    "#将数据分割为训练集，测试集，训练集标签，测试集标签\n",
    "X_train,X_test,y_train,y_test = train_test_split(x, y, test_size=0.2, random_state=42) #测试集占比20%，设置随机种子为42"
   ]
  },
  {
   "cell_type": "markdown",
   "metadata": {},
   "source": [
    "## 特征编码"
   ]
  },
  {
   "cell_type": "code",
   "execution_count": 17,
   "metadata": {},
   "outputs": [],
   "source": [
    "#特征编码。分别对训练集测试集编码，防止数据泄露\n",
    "#DictVectorizer进行独热编码时，不会将数值型编码，而是保留\n",
    "\n",
    "from sklearn.preprocessing import LabelEncoder #标签编码器\n",
    "from sklearn.feature_extraction import DictVectorizer #独热编码器\n",
    "\n",
    "dv = DictVectorizer() #独热编码\n",
    "le = LabelEncoder() #标签编码\n",
    "\n",
    "dv_fit  = dv.fit(X_train.to_dict(orient='records')) #转为dict，训练\n",
    "le_fit = le.fit(y_train) #训练\n",
    "\n",
    "X_train = dv_fit.transform(X_train.to_dict(orient='records')) #训练集转换\n",
    "X_test = dv_fit.transform(X_test.to_dict(orient='records')) #测试集转换\n",
    "\n",
    "y_train = le_fit.transform(y_train) #训练集转换\n",
    "y_test = le_fit.transform(y_test) #测试集转换\n"
   ]
  },
  {
   "cell_type": "code",
   "execution_count": 18,
   "metadata": {
    "scrolled": true
   },
   "outputs": [
    {
     "data": {
      "text/plain": [
       "['客户是否为老年人=0',\n",
       " '客户是否为老年人=1',\n",
       " '客户是否具有在线安全性=否',\n",
       " '客户是否具有在线安全性=无网络服务',\n",
       " '客户是否具有在线安全性=是',\n",
       " '客户是否多线路=否',\n",
       " '客户是否多线路=无电话服务',\n",
       " '客户是否多线路=是',\n",
       " '客户是否有家属=否',\n",
       " '客户是否有家属=是',\n",
       " '客户是否有技术支持=否',\n",
       " '客户是否有技术支持=无网络服务',\n",
       " '客户是否有技术支持=是',\n",
       " '客户是否有电影服务=否',\n",
       " '客户是否有电影服务=无网络服务',\n",
       " '客户是否有电影服务=是',\n",
       " '客户是否有电视服务=否',\n",
       " '客户是否有电视服务=无网络服务',\n",
       " '客户是否有电视服务=是',\n",
       " '客户是否有电话服务=否',\n",
       " '客户是否有电话服务=是',\n",
       " '客户是否有设备保护=否',\n",
       " '客户是否有设备保护=无网络服务',\n",
       " '客户是否有设备保护=是',\n",
       " '客户是否有配偶=否',\n",
       " '客户是否有配偶=是',\n",
       " '客户是否联机备份=否',\n",
       " '客户是否联机备份=无网络服务',\n",
       " '客户是否联机备份=是',\n",
       " '客户留存时间',\n",
       " '客户的互联网服务提供商=DSL',\n",
       " '客户的互联网服务提供商=光纤',\n",
       " '客户的互联网服务提供商=否',\n",
       " '性别=女',\n",
       " '性别=男',\n",
       " '总消费',\n",
       " '支付方式=app',\n",
       " '支付方式=微信',\n",
       " '支付方式=支付宝',\n",
       " '支付方式=营业厅',\n",
       " '是否为电子计费=否',\n",
       " '是否为电子计费=是',\n",
       " '每月消费',\n",
       " '结算方式=两年结',\n",
       " '结算方式=年结',\n",
       " '结算方式=月结']"
      ]
     },
     "execution_count": 18,
     "metadata": {},
     "output_type": "execute_result"
    }
   ],
   "source": [
    "#查看特征\n",
    "\n",
    "dv.feature_names_ #获取特征名称"
   ]
  },
  {
   "cell_type": "markdown",
   "metadata": {},
   "source": [
    "## 随机森林分类算法"
   ]
  },
  {
   "cell_type": "code",
   "execution_count": 19,
   "metadata": {},
   "outputs": [
    {
     "data": {
      "text/plain": [
       "RandomForestClassifier(max_depth=10, min_samples_leaf=20, n_estimators=150,\n",
       "                       random_state=42)"
      ]
     },
     "execution_count": 19,
     "metadata": {},
     "output_type": "execute_result"
    }
   ],
   "source": [
    "#随机森林分类\n",
    "\n",
    "from sklearn.ensemble import RandomForestClassifier\n",
    "#随机森林分类器\n",
    "clf = RandomForestClassifier(\n",
    "                            min_samples_leaf=20, #每个节点的最小样本数\n",
    "                            max_depth=10, #最大树深\n",
    "                            n_estimators=150, #弱分类器的个数\n",
    "                            random_state=42 #随机种子固定\n",
    "                            )\n",
    "clf.fit(X_train,y_train) #训练分类器"
   ]
  },
  {
   "cell_type": "code",
   "execution_count": 20,
   "metadata": {},
   "outputs": [
    {
     "name": "stdout",
     "output_type": "stream",
     "text": [
      "训练集准确率： 0.8227555555555556\n",
      "测试集准确率： 0.7889125799573561\n"
     ]
    }
   ],
   "source": [
    "#准确率\n",
    "\n",
    "print(\"训练集准确率：\",clf.score(X_train,y_train)) #训练集准确率\n",
    "print(\"测试集准确率：\",clf.score(X_test,y_test))   #测试集准确率"
   ]
  },
  {
   "cell_type": "code",
   "execution_count": 21,
   "metadata": {},
   "outputs": [
    {
     "data": {
      "text/plain": [
       "array([0, 0, 1, ..., 0, 0, 0])"
      ]
     },
     "execution_count": 21,
     "metadata": {},
     "output_type": "execute_result"
    }
   ],
   "source": [
    "#预测\n",
    "\n",
    "y_pred = clf.predict(X_test) #预测测试集标签\n",
    "y_pred"
   ]
  },
  {
   "cell_type": "code",
   "execution_count": 22,
   "metadata": {},
   "outputs": [
    {
     "name": "stdout",
     "output_type": "stream",
     "text": [
      "真实值： Counter({0: 1033, 1: 374})\n",
      "预测值： Counter({0: 1140, 1: 267})\n",
      "总体准确率： 0.7889\n"
     ]
    },
    {
     "data": {
      "text/plain": [
       "<AxesSubplot:>"
      ]
     },
     "execution_count": 22,
     "metadata": {},
     "output_type": "execute_result"
    },
    {
     "data": {
      "image/png": "[encoded data removed]",
      "text/plain": [
       "<Figure size 640x480 with 2 Axes>"
      ]
     },
     "metadata": {},
     "output_type": "display_data"
    }
   ],
   "source": [
    "#混淆矩阵\n",
    "\n",
    "from collections import Counter\n",
    "import seaborn as sns\n",
    "from sklearn.metrics import confusion_matrix\n",
    "\n",
    "\n",
    "print(\"真实值：\",Counter(y_test)) #真实标签\n",
    "print(\"预测值：\",Counter(y_pred)) #预测标签\n",
    "print (\"总体准确率：\",round(sum(y_test==y_pred) / len(y_test),4)) #计算准确率\n",
    "\n",
    "confmat= confusion_matrix(y_true=y_test,y_pred=y_pred) #输出混淆矩阵\n",
    "sns.heatmap(confmat,annot=True) #绘制热度图"
   ]
  },
  {
   "cell_type": "code",
   "execution_count": 23,
   "metadata": {},
   "outputs": [
    {
     "name": "stdout",
     "output_type": "stream",
     "text": [
      "              precision    recall  f1-score   support\n",
      "\n",
      "           否       0.91      0.82      0.86      1140\n",
      "          |是       0.46      0.64      0.54       267\n",
      "\n",
      "    accuracy                           0.79      1407\n",
      "   macro avg       0.68      0.73      0.70      1407\n",
      "weighted avg       0.82      0.79      0.80      1407\n",
      "\n"
     ]
    }
   ],
   "source": [
    "#模型报告\n",
    "\n",
    "from sklearn.metrics import classification_report\n",
    "\n",
    "print(classification_report(y_pred,y_test,target_names=['否','|是'])) #输出模型评估报告"
   ]
  },
  {
   "cell_type": "markdown",
   "metadata": {},
   "source": [
    "## 查看特征重要性"
   ]
  },
  {
   "cell_type": "code",
   "execution_count": 25,
   "metadata": {},
   "outputs": [],
   "source": [
    "#特征排序\n",
    "\n",
    "importance = clf.feature_importances_ #特征重要性\n",
    "indices = np.argsort(importance) #获取排序索引\n",
    "#indices\n",
    "importance_sort = clf.feature_importances_[indices] #特征重要性按索引排序\n",
    "feature_names_sort = np.array(dv.feature_names_)[indices] #特征名转化为array格式后排序\n",
    "\n",
    "#list(zip(importance_sort,feature_names_sort))"
   ]
  },
  {
   "cell_type": "code",
   "execution_count": 26,
   "metadata": {},
   "outputs": [],
   "source": [
    "#特征筛选\n",
    "\n",
    "importance_select = [] #特征重要性\n",
    "feature_select = [] #特征名\n",
    "\n",
    "#获取筛选后的特征名和特征重要性\n",
    "for i,j in list(zip(importance_sort,feature_names_sort)): \n",
    "    #特征重要性是否大于0.01\n",
    "    if i>0.01:  \n",
    "        importance_select.append(i) #添加到importance_select中\n",
    "        feature_select.append(j) #添加到feature_select中\n",
    "    else:\n",
    "        continue"
   ]
  },
  {
   "cell_type": "code",
   "execution_count": 28,
   "metadata": {},
   "outputs": [
    {
     "name": "stdout",
     "output_type": "stream",
     "text": [
      "客户留存时间\t0.13737545629372408\n",
      "结算方式=月结\t0.1439376133408773\n"
     ]
    }
   ],
   "source": [
    "# 打印特征及重要性值\n",
    "for num,name in zip(importance_select, feature_select):\n",
    "    if name == '结算方式=月结':\n",
    "        print(f\"{name}\\t{num}\")\n",
    "    elif name == '客户留存时间':\n",
    "        print(f\"{name}\\t{num}\")"
   ]
  },
  {
   "cell_type": "code",
   "execution_count": null,
   "metadata": {},
   "outputs": [],
   "source": [
    "#特征可视化\n",
    "\n",
    "y_pos = np.arange(len(feature_select)) #特征个数的排列\n",
    "\n",
    "fig = plt.figure(figsize=(12,12)) #设置图像大小\n",
    "plt.barh(y_pos, importance_select, align='center') #条形图\n",
    "plt.yticks(y_pos, feature_select) #y轴刻度\n",
    "plt.xlabel('特征') #x轴标签\n",
    "plt.xlim(0,1) #x轴坐标范围\n",
    "plt.title('特征重要性') #标题\n",
    "plt.show()\n"
   ]
  },
  {
   "cell_type": "code",
   "execution_count": null,
   "metadata": {},
   "outputs": [],
   "source": []
  }
 ],
 "metadata": {
  "kernelspec": {
   "display_name": "Python 3 (ipykernel)",
   "language": "python",
   "name": "python3"
  },
  "language_info": {
   "codemirror_mode": {
    "name": "ipython",
    "version": 3
   },
   "file_extension": ".py",
   "mimetype": "text/x-python",
   "name": "python",
   "nbconvert_exporter": "python",
   "pygments_lexer": "ipython3",
   "version": "3.9.13"
  }
 },
 "nbformat": 4,
 "nbformat_minor": 4
}
