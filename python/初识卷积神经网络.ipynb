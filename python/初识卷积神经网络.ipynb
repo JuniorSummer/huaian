{
 "cells": [
  {
   "cell_type": "code",
   "execution_count": 1,
   "id": "b0c80064-64a2-418b-9c1c-c38eb2b448c4",
   "metadata": {},
   "outputs": [
    {
     "name": "stdout",
     "output_type": "stream",
     "text": [
      "Downloading http://yann.lecun.com/exdb/mnist/train-images-idx3-ubyte.gz\n",
      "Failed to download (trying next):\n",
      "<urlopen error [SSL: CERTIFICATE_VERIFY_FAILED] certificate verify failed: certificate has expired (_ssl.c:997)>\n",
      "\n",
      "Downloading https://ossci-datasets.s3.amazonaws.com/mnist/train-images-idx3-ubyte.gz\n",
      "Downloading https://ossci-datasets.s3.amazonaws.com/mnist/train-images-idx3-ubyte.gz to ./data/MNIST/raw/train-images-idx3-ubyte.gz\n"
     ]
    },
    {
     "name": "stderr",
     "output_type": "stream",
     "text": [
      "100% 9912422/9912422 [00:11<00:00, 867481.14it/s] \n"
     ]
    },
    {
     "name": "stdout",
     "output_type": "stream",
     "text": [
      "Extracting ./data/MNIST/raw/train-images-idx3-ubyte.gz to ./data/MNIST/raw\n",
      "\n",
      "Downloading http://yann.lecun.com/exdb/mnist/train-labels-idx1-ubyte.gz\n",
      "Failed to download (trying next):\n",
      "<urlopen error [SSL: CERTIFICATE_VERIFY_FAILED] certificate verify failed: certificate has expired (_ssl.c:997)>\n",
      "\n",
      "Downloading https://ossci-datasets.s3.amazonaws.com/mnist/train-labels-idx1-ubyte.gz\n",
      "Downloading https://ossci-datasets.s3.amazonaws.com/mnist/train-labels-idx1-ubyte.gz to ./data/MNIST/raw/train-labels-idx1-ubyte.gz\n"
     ]
    },
    {
     "name": "stderr",
     "output_type": "stream",
     "text": [
      "100% 28881/28881 [00:00<00:00, 113188.82it/s]\n"
     ]
    },
    {
     "name": "stdout",
     "output_type": "stream",
     "text": [
      "Extracting ./data/MNIST/raw/train-labels-idx1-ubyte.gz to ./data/MNIST/raw\n",
      "\n",
      "Downloading http://yann.lecun.com/exdb/mnist/t10k-images-idx3-ubyte.gz\n",
      "Failed to download (trying next):\n",
      "<urlopen error [SSL: CERTIFICATE_VERIFY_FAILED] certificate verify failed: certificate has expired (_ssl.c:997)>\n",
      "\n",
      "Downloading https://ossci-datasets.s3.amazonaws.com/mnist/t10k-images-idx3-ubyte.gz\n",
      "Downloading https://ossci-datasets.s3.amazonaws.com/mnist/t10k-images-idx3-ubyte.gz to ./data/MNIST/raw/t10k-images-idx3-ubyte.gz\n"
     ]
    },
    {
     "name": "stderr",
     "output_type": "stream",
     "text": [
      "100% 1648877/1648877 [00:01<00:00, 1241493.57it/s]\n"
     ]
    },
    {
     "name": "stdout",
     "output_type": "stream",
     "text": [
      "Extracting ./data/MNIST/raw/t10k-images-idx3-ubyte.gz to ./data/MNIST/raw\n",
      "\n",
      "Downloading http://yann.lecun.com/exdb/mnist/t10k-labels-idx1-ubyte.gz\n",
      "Failed to download (trying next):\n",
      "<urlopen error [SSL: CERTIFICATE_VERIFY_FAILED] certificate verify failed: certificate has expired (_ssl.c:997)>\n",
      "\n",
      "Downloading https://ossci-datasets.s3.amazonaws.com/mnist/t10k-labels-idx1-ubyte.gz\n",
      "Downloading https://ossci-datasets.s3.amazonaws.com/mnist/t10k-labels-idx1-ubyte.gz to ./data/MNIST/raw/t10k-labels-idx1-ubyte.gz\n"
     ]
    },
    {
     "name": "stderr",
     "output_type": "stream",
     "text": [
      "100% 4542/4542 [00:00<00:00, 3498077.26it/s]"
     ]
    },
    {
     "name": "stdout",
     "output_type": "stream",
     "text": [
      "Extracting ./data/MNIST/raw/t10k-labels-idx1-ubyte.gz to ./data/MNIST/raw\n",
      "\n"
     ]
    },
    {
     "name": "stderr",
     "output_type": "stream",
     "text": [
      "\n"
     ]
    }
   ],
   "source": [
    "import torch\n",
    "import torchvision\n",
    "import torchvision.transforms as transforms\n",
    "import torch.optim as optim\n",
    "import torch.nn as nn\n",
    "\n",
    "# 定义预处理的转换\n",
    "transform = transforms.Compose([\n",
    "    transforms.ToTensor(),  # 将图像转换为Tensor\n",
    "    transforms.Normalize((0.5,), (0.5,))  # 标准化图像\n",
    "])\n",
    "\n",
    "# 加载训练集和测试集\n",
    "trainset = torchvision.datasets.MNIST(root='./data', train=True, download=True, transform=transform)\n",
    "testset = torchvision.datasets.MNIST(root='./data', train=False, download=True, transform=transform)\n",
    "\n",
    "# 创建数据加载器\n",
    "trainloader = torch.utils.data.DataLoader(trainset, batch_size=64, shuffle=True)\n",
    "testloader = torch.utils.data.DataLoader(testset, batch_size=64, shuffle=False)\n"
   ]
  },
  {
   "cell_type": "code",
   "execution_count": 2,
   "id": "a992e90b-7680-4a2f-bb8b-f0d4a5760d51",
   "metadata": {},
   "outputs": [],
   "source": [
    "# 定义卷积神经网络模型\n",
    "class CNN(nn.Module):\n",
    "    def __init__(self):\n",
    "        super(CNN, self).__init__()\n",
    "\n",
    "        # 第一个卷积层\n",
    "        self.conv1 = nn.Conv2d(1, 16, kernel_size=3, stride=1, padding=1)\n",
    "\n",
    "        # 第二个卷积层\n",
    "        self.conv2 = nn.Conv2d(16, 32, kernel_size=3, stride=1, padding=1)\n",
    "\n",
    "        # 池化层\n",
    "        self.pool = nn.MaxPool2d(kernel_size=2, stride=2)\n",
    "\n",
    "        # 全连接层\n",
    "        self.fc = nn.Linear(32 * 7 * 7, 10)\n",
    "\n",
    "    def forward(self, x):\n",
    "        x = self.conv1(x)\n",
    "        x = nn.ReLU()(x)\n",
    "        x = self.pool(x)\n",
    "\n",
    "        x = self.conv2(x)\n",
    "        x = nn.ReLU()(x)\n",
    "        x = self.pool(x)\n",
    "\n",
    "        x = x.view(-1, 32 * 7 * 7)\n",
    "\n",
    "        x = self.fc(x)\n",
    "\n",
    "        return x\n",
    "\n",
    "# 创建CNN模型实例\n",
    "model = CNN()\n"
   ]
  },
  {
   "cell_type": "code",
   "execution_count": 3,
   "id": "10673220-ba72-432f-85ba-be40fb424202",
   "metadata": {},
   "outputs": [
    {
     "name": "stderr",
     "output_type": "stream",
     "text": [
      "/opt/conda/lib/python3.10/site-packages/torch/cuda/__init__.py:107: UserWarning: CUDA initialization: Unexpected error from cudaGetDeviceCount(). Did you run some cuda functions before calling NumCudaDevices() that might have already set an error? Error 304: OS call failed or operation not supported on this OS (Triggered internally at /opt/conda/conda-bld/pytorch_1678411187366/work/c10/cuda/CUDAFunctions.cpp:109.)\n",
      "  return torch._C._cuda_getDeviceCount() > 0\n"
     ]
    },
    {
     "data": {
      "text/plain": [
       "CNN(\n",
       "  (conv1): Conv2d(1, 16, kernel_size=(3, 3), stride=(1, 1), padding=(1, 1))\n",
       "  (conv2): Conv2d(16, 32, kernel_size=(3, 3), stride=(1, 1), padding=(1, 1))\n",
       "  (pool): MaxPool2d(kernel_size=2, stride=2, padding=0, dilation=1, ceil_mode=False)\n",
       "  (fc): Linear(in_features=1568, out_features=10, bias=True)\n",
       ")"
      ]
     },
     "execution_count": 3,
     "metadata": {},
     "output_type": "execute_result"
    }
   ],
   "source": [
    "# 定义损失函数和优化器\n",
    "criterion = nn.CrossEntropyLoss()  # 交叉熵损失函数\n",
    "optimizer = optim.SGD(model.parameters(), lr=0.01, momentum=0.9)  # 随机梯度下降优化器\n",
    "\n",
    "# 指定设备\n",
    "device = torch.device(\"cuda\" if torch.cuda.is_available() else \"cpu\")  # 判断是否有可用的GPU加速\n",
    "model.to(device)  # 将模型移动到对应的设备上进行训练\n"
   ]
  },
  {
   "cell_type": "code",
   "execution_count": 4,
   "id": "a34a13ce-de83-4e25-b5af-9fbfb93f4365",
   "metadata": {},
   "outputs": [
    {
     "name": "stdout",
     "output_type": "stream",
     "text": [
      "Epoch [1/10], Step [100/938], Loss: 1.0225\n",
      "Epoch [1/10], Step [200/938], Loss: 0.2392\n",
      "Epoch [1/10], Step [300/938], Loss: 0.1650\n",
      "Epoch [1/10], Step [400/938], Loss: 0.1209\n",
      "Epoch [1/10], Step [500/938], Loss: 0.1006\n",
      "Epoch [1/10], Step [600/938], Loss: 0.0948\n",
      "Epoch [1/10], Step [700/938], Loss: 0.0822\n",
      "Epoch [1/10], Step [800/938], Loss: 0.0992\n",
      "Epoch [1/10], Step [900/938], Loss: 0.0732\n",
      "Epoch [1/10], Accuracy on the training set: 93.38%\n",
      "Epoch [2/10], Step [100/938], Loss: 0.0590\n",
      "Epoch [2/10], Step [200/938], Loss: 0.0669\n",
      "Epoch [2/10], Step [300/938], Loss: 0.0660\n",
      "Epoch [2/10], Step [400/938], Loss: 0.0656\n",
      "Epoch [2/10], Step [500/938], Loss: 0.0690\n",
      "Epoch [2/10], Step [600/938], Loss: 0.0621\n",
      "Epoch [2/10], Step [700/938], Loss: 0.0682\n",
      "Epoch [2/10], Step [800/938], Loss: 0.0530\n",
      "Epoch [2/10], Step [900/938], Loss: 0.0567\n",
      "Epoch [2/10], Accuracy on the training set: 98.04%\n",
      "Epoch [3/10], Step [100/938], Loss: 0.0496\n",
      "Epoch [3/10], Step [200/938], Loss: 0.0522\n",
      "Epoch [3/10], Step [300/938], Loss: 0.0472\n",
      "Epoch [3/10], Step [400/938], Loss: 0.0429\n",
      "Epoch [3/10], Step [500/938], Loss: 0.0476\n",
      "Epoch [3/10], Step [600/938], Loss: 0.0492\n",
      "Epoch [3/10], Step [700/938], Loss: 0.0465\n",
      "Epoch [3/10], Step [800/938], Loss: 0.0524\n",
      "Epoch [3/10], Step [900/938], Loss: 0.0547\n",
      "Epoch [3/10], Accuracy on the training set: 98.48%\n",
      "Epoch [4/10], Step [100/938], Loss: 0.0404\n",
      "Epoch [4/10], Step [200/938], Loss: 0.0371\n",
      "Epoch [4/10], Step [300/938], Loss: 0.0394\n",
      "Epoch [4/10], Step [400/938], Loss: 0.0435\n",
      "Epoch [4/10], Step [500/938], Loss: 0.0386\n",
      "Epoch [4/10], Step [600/938], Loss: 0.0396\n",
      "Epoch [4/10], Step [700/938], Loss: 0.0377\n",
      "Epoch [4/10], Step [800/938], Loss: 0.0385\n",
      "Epoch [4/10], Step [900/938], Loss: 0.0454\n",
      "Epoch [4/10], Accuracy on the training set: 98.73%\n",
      "Epoch [5/10], Step [100/938], Loss: 0.0322\n",
      "Epoch [5/10], Step [200/938], Loss: 0.0350\n",
      "Epoch [5/10], Step [300/938], Loss: 0.0329\n",
      "Epoch [5/10], Step [400/938], Loss: 0.0318\n",
      "Epoch [5/10], Step [500/938], Loss: 0.0330\n",
      "Epoch [5/10], Step [600/938], Loss: 0.0356\n",
      "Epoch [5/10], Step [700/938], Loss: 0.0426\n",
      "Epoch [5/10], Step [800/938], Loss: 0.0332\n",
      "Epoch [5/10], Step [900/938], Loss: 0.0324\n",
      "Epoch [5/10], Accuracy on the training set: 98.94%\n",
      "Epoch [6/10], Step [100/938], Loss: 0.0343\n",
      "Epoch [6/10], Step [200/938], Loss: 0.0248\n",
      "Epoch [6/10], Step [300/938], Loss: 0.0359\n",
      "Epoch [6/10], Step [400/938], Loss: 0.0287\n",
      "Epoch [6/10], Step [500/938], Loss: 0.0300\n",
      "Epoch [6/10], Step [600/938], Loss: 0.0319\n",
      "Epoch [6/10], Step [700/938], Loss: 0.0334\n",
      "Epoch [6/10], Step [800/938], Loss: 0.0307\n",
      "Epoch [6/10], Step [900/938], Loss: 0.0272\n",
      "Epoch [6/10], Accuracy on the training set: 98.97%\n",
      "Epoch [7/10], Step [100/938], Loss: 0.0232\n",
      "Epoch [7/10], Step [200/938], Loss: 0.0271\n",
      "Epoch [7/10], Step [300/938], Loss: 0.0227\n",
      "Epoch [7/10], Step [400/938], Loss: 0.0257\n",
      "Epoch [7/10], Step [500/938], Loss: 0.0280\n",
      "Epoch [7/10], Step [600/938], Loss: 0.0243\n",
      "Epoch [7/10], Step [700/938], Loss: 0.0295\n",
      "Epoch [7/10], Step [800/938], Loss: 0.0352\n",
      "Epoch [7/10], Step [900/938], Loss: 0.0281\n",
      "Epoch [7/10], Accuracy on the training set: 99.17%\n",
      "Epoch [8/10], Step [100/938], Loss: 0.0185\n",
      "Epoch [8/10], Step [200/938], Loss: 0.0246\n",
      "Epoch [8/10], Step [300/938], Loss: 0.0315\n",
      "Epoch [8/10], Step [400/938], Loss: 0.0221\n",
      "Epoch [8/10], Step [500/938], Loss: 0.0213\n",
      "Epoch [8/10], Step [600/938], Loss: 0.0290\n",
      "Epoch [8/10], Step [700/938], Loss: 0.0261\n",
      "Epoch [8/10], Step [800/938], Loss: 0.0219\n",
      "Epoch [8/10], Step [900/938], Loss: 0.0214\n",
      "Epoch [8/10], Accuracy on the training set: 99.23%\n",
      "Epoch [9/10], Step [100/938], Loss: 0.0243\n",
      "Epoch [9/10], Step [200/938], Loss: 0.0210\n",
      "Epoch [9/10], Step [300/938], Loss: 0.0210\n",
      "Epoch [9/10], Step [400/938], Loss: 0.0213\n",
      "Epoch [9/10], Step [500/938], Loss: 0.0272\n",
      "Epoch [9/10], Step [600/938], Loss: 0.0161\n",
      "Epoch [9/10], Step [700/938], Loss: 0.0242\n",
      "Epoch [9/10], Step [800/938], Loss: 0.0219\n",
      "Epoch [9/10], Step [900/938], Loss: 0.0156\n",
      "Epoch [9/10], Accuracy on the training set: 99.31%\n",
      "Epoch [10/10], Step [100/938], Loss: 0.0178\n",
      "Epoch [10/10], Step [200/938], Loss: 0.0161\n",
      "Epoch [10/10], Step [300/938], Loss: 0.0158\n",
      "Epoch [10/10], Step [400/938], Loss: 0.0200\n",
      "Epoch [10/10], Step [500/938], Loss: 0.0180\n",
      "Epoch [10/10], Step [600/938], Loss: 0.0233\n",
      "Epoch [10/10], Step [700/938], Loss: 0.0142\n",
      "Epoch [10/10], Step [800/938], Loss: 0.0181\n",
      "Epoch [10/10], Step [900/938], Loss: 0.0260\n",
      "Epoch [10/10], Accuracy on the training set: 99.39%\n",
      "Finished Training\n",
      "Accuracy on the test set: 98.83%\n"
     ]
    }
   ],
   "source": [
    "num_epochs = 10\n",
    "for epoch in range(num_epochs):\n",
    "    running_loss = 0.0  # 用于追踪每个epoch的累计损失\n",
    "    correct = 0  # 用于追踪每个epoch的正确分类数量\n",
    "    total = 0  # 用于追踪每个epoch的总样本数量\n",
    "\n",
    "    for i, data in enumerate(trainloader, 0):\n",
    "        inputs, labels = data[0].to(device), data[1].to(device)\n",
    "\n",
    "        optimizer.zero_grad()  # 梯度清零\n",
    "\n",
    "        outputs = model(inputs)  # 前向传播\n",
    "        loss = criterion(outputs, labels)  # 计算损失\n",
    "        loss.backward()  # 反向传播\n",
    "        optimizer.step()  # 更新参数\n",
    "\n",
    "        running_loss += loss.item()  # 累加损失\n",
    "\n",
    "        _, predicted = torch.max(outputs.data, 1)\n",
    "        total += labels.size(0)\n",
    "        correct += (predicted == labels).sum().item()\n",
    "\n",
    "        if (i+1) % 100 == 0:\n",
    "            print('Epoch [{}/{}], Step [{}/{}], Loss: {:.4f}'.format(epoch+1, num_epochs, i+1, len(trainloader), running_loss/100))\n",
    "            running_loss = 0.0\n",
    "\n",
    "    accuracy = 100 * correct / total\n",
    "    print('Epoch [{}/{}], Accuracy on the training set: {:.2f}%'.format(epoch+1, num_epochs, accuracy))\n",
    "\n",
    "print('Finished Training')\n",
    "\n",
    "# 在测试集上评估模型\n",
    "model.eval()  # 将模型设置为评估模式，不进行梯度计算\n",
    "correct = 0\n",
    "total = 0\n",
    "\n",
    "with torch.no_grad():\n",
    "    for data in testloader:\n",
    "        images, labels = data[0].to(device), data[1].to(device)\n",
    "        outputs = model(images)\n",
    "        _, predicted = torch.max(outputs.data, 1)\n",
    "        total += labels.size(0)\n",
    "        correct += (predicted == labels).sum().item()\n",
    "\n",
    "accuracy = 100 * correct / total\n",
    "print('Accuracy on the test set: {:.2f}%'.format(accuracy))"
   ]
  },
  {
   "cell_type": "code",
   "execution_count": null,
   "id": "13e78853-e9f2-4e83-9842-0b0407486408",
   "metadata": {},
   "outputs": [],
   "source": []
  }
 ],
 "metadata": {
  "kernelspec": {
   "display_name": "Python 3 (ipykernel)",
   "language": "python",
   "name": "python3"
  },
  "language_info": {
   "codemirror_mode": {
    "name": "ipython",
    "version": 3
   },
   "file_extension": ".py",
   "mimetype": "text/x-python",
   "name": "python",
   "nbconvert_exporter": "python",
   "pygments_lexer": "ipython3",
   "version": "3.10.9"
  }
 },
 "nbformat": 4,
 "nbformat_minor": 5
}
